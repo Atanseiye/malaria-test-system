{
 "cells": [
  {
   "cell_type": "code",
   "execution_count": 79,
   "id": "034320e8-e1df-490f-8eec-9023e4f9cda6",
   "metadata": {},
   "outputs": [],
   "source": [
    "data = pd.read_csv('dengue.csv')"
   ]
  },
  {
   "cell_type": "code",
   "execution_count": 80,
   "id": "a5409e35-a710-4535-8c75-33caa569cf18",
   "metadata": {},
   "outputs": [
    {
     "name": "stdout",
     "output_type": "stream",
     "text": [
      "<class 'pandas.core.frame.DataFrame'>\n",
      "RangeIndex: 108 entries, 0 to 107\n",
      "Data columns (total 17 columns):\n",
      " #   Column                       Non-Null Count  Dtype  \n",
      "---  ------                       --------------  -----  \n",
      " 0   i_d                          108 non-null    object \n",
      " 1   date_of_fever                108 non-null    object \n",
      " 2   days                         99 non-null     object \n",
      " 3   current_temp                 108 non-null    float64\n",
      " 4   wbc                          45 non-null     float64\n",
      " 5   servere_headche              90 non-null     object \n",
      " 6   pain_behind_the_eyes         108 non-null    object \n",
      " 7   joint_muscle_aches           99 non-null     object \n",
      " 8   metallic_taste_in_the_mouth  108 non-null    object \n",
      " 9   appetite_loss                108 non-null    object \n",
      " 10  addominal_pain               108 non-null    object \n",
      " 11  nausea_vomiting              108 non-null    object \n",
      " 12  diarrhoea                    108 non-null    object \n",
      " 13  hemoglobin                   36 non-null     float64\n",
      " 14  hematocri                    27 non-null     float64\n",
      " 15  platelet                     54 non-null     float64\n",
      " 16  Malaria                      99 non-null     object \n",
      "dtypes: float64(5), object(12)\n",
      "memory usage: 14.5+ KB\n"
     ]
    }
   ],
   "source": [
    "data.info()"
   ]
  },
  {
   "cell_type": "code",
   "execution_count": null,
   "id": "4e7ed867-7aa9-49ea-9544-b2e840b30678",
   "metadata": {},
   "outputs": [],
   "source": []
  },
  {
   "cell_type": "code",
   "execution_count": 81,
   "id": "185aceb3-73a9-4ca4-b45c-c47701232d00",
   "metadata": {},
   "outputs": [
    {
     "data": {
      "text/plain": [
       "i_d                             0\n",
       "date_of_fever                   0\n",
       "days                            9\n",
       "current_temp                    0\n",
       "wbc                            63\n",
       "servere_headche                18\n",
       "pain_behind_the_eyes            0\n",
       "joint_muscle_aches              9\n",
       "metallic_taste_in_the_mouth     0\n",
       "appetite_loss                   0\n",
       "addominal_pain                  0\n",
       "nausea_vomiting                 0\n",
       "diarrhoea                       0\n",
       "hemoglobin                     72\n",
       "hematocri                      81\n",
       "platelet                       54\n",
       "Malaria                         9\n",
       "dtype: int64"
      ]
     },
     "execution_count": 81,
     "metadata": {},
     "output_type": "execute_result"
    }
   ],
   "source": [
    "data.isna().sum()"
   ]
  },
  {
   "cell_type": "code",
   "execution_count": 82,
   "id": "41f43572-7dcf-4b29-8ccf-313ef8cbdb1d",
   "metadata": {},
   "outputs": [],
   "source": []
  },
  {
   "cell_type": "code",
   "execution_count": 83,
   "id": "cb964ac0-ed4e-4ca8-88e3-79c93d0103d6",
   "metadata": {},
   "outputs": [
    {
     "name": "stdout",
     "output_type": "stream",
     "text": [
      "days                            9\n",
      "current_temp                    0\n",
      "servere_headche                18\n",
      "pain_behind_the_eyes            0\n",
      "joint_muscle_aches              9\n",
      "metallic_taste_in_the_mouth     0\n",
      "appetite_loss                   0\n",
      "addominal_pain                  0\n",
      "nausea_vomiting                 0\n",
      "diarrhoea                       0\n",
      "Malaria                         9\n",
      "dtype: int64\n",
      "<class 'pandas.core.frame.DataFrame'>\n",
      "RangeIndex: 108 entries, 0 to 107\n",
      "Data columns (total 11 columns):\n",
      " #   Column                       Non-Null Count  Dtype  \n",
      "---  ------                       --------------  -----  \n",
      " 0   days                         99 non-null     object \n",
      " 1   current_temp                 108 non-null    float64\n",
      " 2   servere_headche              90 non-null     object \n",
      " 3   pain_behind_the_eyes         108 non-null    object \n",
      " 4   joint_muscle_aches           99 non-null     object \n",
      " 5   metallic_taste_in_the_mouth  108 non-null    object \n",
      " 6   appetite_loss                108 non-null    object \n",
      " 7   addominal_pain               108 non-null    object \n",
      " 8   nausea_vomiting              108 non-null    object \n",
      " 9   diarrhoea                    108 non-null    object \n",
      " 10  Malaria                      99 non-null     object \n",
      "dtypes: float64(1), object(10)\n",
      "memory usage: 9.4+ KB\n"
     ]
    }
   ],
   "source": [
    "print(data.isna().sum())\n",
    "data.info()\n"
   ]
  },
  {
   "cell_type": "code",
   "execution_count": 77,
   "id": "53aebbc7-8a52-4d6a-9497-dbe6b4ffedae",
   "metadata": {},
   "outputs": [],
   "source": []
  },
  {
   "cell_type": "code",
   "execution_count": 78,
   "id": "b759389d-d6e3-4099-9c6d-acbc4325ec44",
   "metadata": {},
   "outputs": [
    {
     "data": {
      "text/plain": [
       "days                           0\n",
       "current_temp                   0\n",
       "servere_headche                0\n",
       "pain_behind_the_eyes           0\n",
       "joint_muscle_aches             0\n",
       "metallic_taste_in_the_mouth    0\n",
       "appetite_loss                  0\n",
       "addominal_pain                 0\n",
       "nausea_vomiting                0\n",
       "diarrhoea                      0\n",
       "Malaria                        0\n",
       "dday                           0\n",
       "ddday                          0\n",
       "dtype: int64"
      ]
     },
     "execution_count": 78,
     "metadata": {},
     "output_type": "execute_result"
    }
   ],
   "source": [
    "data.isna().sum()"
   ]
  },
  {
   "cell_type": "markdown",
   "id": "4743388a-9152-49ca-a1ad-1838bd7b0d9e",
   "metadata": {},
   "source": [
    "## Cleaning"
   ]
  },
  {
   "cell_type": "code",
   "execution_count": 2,
   "id": "f241fa16-2c52-4d4e-b44d-643e6146094b",
   "metadata": {},
   "outputs": [
    {
     "data": {
      "text/html": [
       "<div>\n",
       "<style scoped>\n",
       "    .dataframe tbody tr th:only-of-type {\n",
       "        vertical-align: middle;\n",
       "    }\n",
       "\n",
       "    .dataframe tbody tr th {\n",
       "        vertical-align: top;\n",
       "    }\n",
       "\n",
       "    .dataframe thead th {\n",
       "        text-align: right;\n",
       "    }\n",
       "</style>\n",
       "<table border=\"1\" class=\"dataframe\">\n",
       "  <thead>\n",
       "    <tr style=\"text-align: right;\">\n",
       "      <th></th>\n",
       "      <th>i_d</th>\n",
       "      <th>date_of_fever</th>\n",
       "      <th>days</th>\n",
       "      <th>current_temp</th>\n",
       "      <th>wbc</th>\n",
       "      <th>servere_headche</th>\n",
       "      <th>pain_behind_the_eyes</th>\n",
       "      <th>joint_muscle_aches</th>\n",
       "      <th>metallic_taste_in_the_mouth</th>\n",
       "      <th>appetite_loss</th>\n",
       "      <th>addominal_pain</th>\n",
       "      <th>nausea_vomiting</th>\n",
       "      <th>diarrhoea</th>\n",
       "      <th>hemoglobin</th>\n",
       "      <th>hematocri</th>\n",
       "      <th>platelet</th>\n",
       "      <th>Malaria</th>\n",
       "    </tr>\n",
       "  </thead>\n",
       "  <tbody>\n",
       "    <tr>\n",
       "      <th>0</th>\n",
       "      <td>P012</td>\n",
       "      <td>13-Jan</td>\n",
       "      <td>10 days</td>\n",
       "      <td>100.0</td>\n",
       "      <td>5.0</td>\n",
       "      <td>yes</td>\n",
       "      <td>no</td>\n",
       "      <td>no</td>\n",
       "      <td>yes</td>\n",
       "      <td>yes</td>\n",
       "      <td>yes</td>\n",
       "      <td>no</td>\n",
       "      <td>yes</td>\n",
       "      <td>15.0</td>\n",
       "      <td>NaN</td>\n",
       "      <td>140.0</td>\n",
       "      <td>yes</td>\n",
       "    </tr>\n",
       "    <tr>\n",
       "      <th>1</th>\n",
       "      <td>P011</td>\n",
       "      <td>13-Feb</td>\n",
       "      <td>4 days</td>\n",
       "      <td>104.0</td>\n",
       "      <td>1.0</td>\n",
       "      <td>no</td>\n",
       "      <td>yes</td>\n",
       "      <td>yes</td>\n",
       "      <td>no</td>\n",
       "      <td>no</td>\n",
       "      <td>no</td>\n",
       "      <td>no</td>\n",
       "      <td>no</td>\n",
       "      <td>9.0</td>\n",
       "      <td>22.0</td>\n",
       "      <td>80.0</td>\n",
       "      <td>no</td>\n",
       "    </tr>\n",
       "    <tr>\n",
       "      <th>2</th>\n",
       "      <td>P010</td>\n",
       "      <td>9-Jan</td>\n",
       "      <td>5 days</td>\n",
       "      <td>104.0</td>\n",
       "      <td>5.0</td>\n",
       "      <td>NaN</td>\n",
       "      <td>no</td>\n",
       "      <td>no</td>\n",
       "      <td>yes</td>\n",
       "      <td>yes</td>\n",
       "      <td>yes</td>\n",
       "      <td>yes</td>\n",
       "      <td>no</td>\n",
       "      <td>NaN</td>\n",
       "      <td>NaN</td>\n",
       "      <td>120.0</td>\n",
       "      <td>yes</td>\n",
       "    </tr>\n",
       "    <tr>\n",
       "      <th>3</th>\n",
       "      <td>P009</td>\n",
       "      <td>12-Aug</td>\n",
       "      <td>12 months</td>\n",
       "      <td>101.0</td>\n",
       "      <td>NaN</td>\n",
       "      <td>yes</td>\n",
       "      <td>yes</td>\n",
       "      <td>no</td>\n",
       "      <td>no</td>\n",
       "      <td>no</td>\n",
       "      <td>no</td>\n",
       "      <td>no</td>\n",
       "      <td>no</td>\n",
       "      <td>NaN</td>\n",
       "      <td>NaN</td>\n",
       "      <td>NaN</td>\n",
       "      <td>no</td>\n",
       "    </tr>\n",
       "    <tr>\n",
       "      <th>4</th>\n",
       "      <td>P008</td>\n",
       "      <td>12-Oct</td>\n",
       "      <td>3 days</td>\n",
       "      <td>101.0</td>\n",
       "      <td>NaN</td>\n",
       "      <td>yes</td>\n",
       "      <td>no</td>\n",
       "      <td>no</td>\n",
       "      <td>no</td>\n",
       "      <td>no</td>\n",
       "      <td>no</td>\n",
       "      <td>yes</td>\n",
       "      <td>no</td>\n",
       "      <td>NaN</td>\n",
       "      <td>NaN</td>\n",
       "      <td>NaN</td>\n",
       "      <td>no</td>\n",
       "    </tr>\n",
       "  </tbody>\n",
       "</table>\n",
       "</div>"
      ],
      "text/plain": [
       "    i_d date_of_fever       days  current_temp  wbc servere_headche  \\\n",
       "0  P012        13-Jan    10 days         100.0  5.0             yes   \n",
       "1  P011        13-Feb     4 days         104.0  1.0              no   \n",
       "2  P010         9-Jan     5 days         104.0  5.0             NaN   \n",
       "3  P009        12-Aug  12 months         101.0  NaN             yes   \n",
       "4  P008        12-Oct     3 days         101.0  NaN             yes   \n",
       "\n",
       "  pain_behind_the_eyes joint_muscle_aches metallic_taste_in_the_mouth  \\\n",
       "0                   no                 no                         yes   \n",
       "1                  yes                yes                          no   \n",
       "2                   no                 no                         yes   \n",
       "3                  yes                 no                          no   \n",
       "4                   no                 no                          no   \n",
       "\n",
       "  appetite_loss addominal_pain nausea_vomiting diarrhoea  hemoglobin  \\\n",
       "0           yes            yes              no       yes        15.0   \n",
       "1            no             no              no        no         9.0   \n",
       "2           yes            yes             yes        no         NaN   \n",
       "3            no             no              no        no         NaN   \n",
       "4            no             no             yes        no         NaN   \n",
       "\n",
       "   hematocri  platelet Malaria  \n",
       "0        NaN     140.0     yes  \n",
       "1       22.0      80.0      no  \n",
       "2        NaN     120.0     yes  \n",
       "3        NaN       NaN      no  \n",
       "4        NaN       NaN      no  "
      ]
     },
     "execution_count": 2,
     "metadata": {},
     "output_type": "execute_result"
    }
   ],
   "source": [
    "import pandas as pd\n",
    "data = pd.read_csv('dengue.csv')\n",
    "data.head()"
   ]
  },
  {
   "cell_type": "code",
   "execution_count": 3,
   "id": "ca8254c2-5b6e-4f08-b047-0a0d1c4c03c5",
   "metadata": {},
   "outputs": [
    {
     "data": {
      "text/plain": [
       "Index(['i_d', 'date_of_fever', 'days', 'current_temp', 'wbc',\n",
       "       'servere_headche', 'pain_behind_the_eyes', 'joint_muscle_aches',\n",
       "       'metallic_taste_in_the_mouth', 'appetite_loss', 'addominal_pain',\n",
       "       'nausea_vomiting', 'diarrhoea', 'hemoglobin', 'hematocri', 'platelet',\n",
       "       'Malaria'],\n",
       "      dtype='object')"
      ]
     },
     "execution_count": 3,
     "metadata": {},
     "output_type": "execute_result"
    }
   ],
   "source": [
    "data.columns"
   ]
  },
  {
   "cell_type": "code",
   "execution_count": 4,
   "id": "8ecd5efa-f286-4283-abb3-87b127afe139",
   "metadata": {},
   "outputs": [],
   "source": [
    "def wrangle(data):\n",
    "    #Fill NaN values\n",
    "    data['servere_headche'].fillna(method='ffill', inplace=True)\n",
    "    data['joint_muscle_aches'].fillna(method='ffill', inplace=True)\n",
    "    data['days'].fillna(method='ffill', inplace=True)\n",
    "    data['Malaria'].fillna(method='ffill', inplace=True)\n",
    "    \n",
    "    #drop NAN values\n",
    "    data.drop(columns=['wbc', 'hematocri', 'hemoglobin', 'platelet', 'date_of_fever', 'i_d', 'days', 'diarrhoea'], inplace=True)\n",
    "\n",
    "\n",
    "    y_map = {\n",
    "    'yes':1,\n",
    "    'no':0\n",
    "    }\n",
    "    \n",
    "    # df = data['days'].str.split(' ', expand=True)[0].str.split('--')\n",
    "    data['servere_headche'] = data['servere_headche'].map(y_map)\n",
    "    data['pain_behind_the_eyes'] = data['pain_behind_the_eyes'].map(y_map)\n",
    "    data['joint_muscle_aches'] = data['joint_muscle_aches'].map(y_map)\n",
    "    data['metallic_taste_in_the_mouth'] = data['metallic_taste_in_the_mouth'].map(y_map)\n",
    "    data['appetite_loss'] = data['appetite_loss'].map(y_map)\n",
    "    data['addominal_pain'] = data['addominal_pain'].map(y_map)\n",
    "    data['nausea_vomiting'] = data['nausea_vomiting'].map(y_map)\n",
    "    data['Malaria'] = data['Malaria'].map(y_map)\n",
    "    \n",
    "    # Normalise current Temp column\n",
    "    data['current_temp'] = (data['current_temp'] - max(data['current_temp']))/(max(data['current_temp'])-min(data['current_temp']))\n",
    "    \n",
    "    \n",
    "    return data"
   ]
  },
  {
   "cell_type": "code",
   "execution_count": 5,
   "id": "f21f7e04-d75b-4b75-a514-733520030f3c",
   "metadata": {
    "tags": []
   },
   "outputs": [
    {
     "name": "stderr",
     "output_type": "stream",
     "text": [
      "C:\\Users\\HP\\AppData\\Local\\Temp\\ipykernel_14824\\3153078905.py:3: FutureWarning: Series.fillna with 'method' is deprecated and will raise in a future version. Use obj.ffill() or obj.bfill() instead.\n",
      "  data['servere_headche'].fillna(method='ffill', inplace=True)\n",
      "C:\\Users\\HP\\AppData\\Local\\Temp\\ipykernel_14824\\3153078905.py:4: FutureWarning: Series.fillna with 'method' is deprecated and will raise in a future version. Use obj.ffill() or obj.bfill() instead.\n",
      "  data['joint_muscle_aches'].fillna(method='ffill', inplace=True)\n",
      "C:\\Users\\HP\\AppData\\Local\\Temp\\ipykernel_14824\\3153078905.py:5: FutureWarning: Series.fillna with 'method' is deprecated and will raise in a future version. Use obj.ffill() or obj.bfill() instead.\n",
      "  data['days'].fillna(method='ffill', inplace=True)\n",
      "C:\\Users\\HP\\AppData\\Local\\Temp\\ipykernel_14824\\3153078905.py:6: FutureWarning: Series.fillna with 'method' is deprecated and will raise in a future version. Use obj.ffill() or obj.bfill() instead.\n",
      "  data['Malaria'].fillna(method='ffill', inplace=True)\n"
     ]
    },
    {
     "data": {
      "text/html": [
       "<div>\n",
       "<style scoped>\n",
       "    .dataframe tbody tr th:only-of-type {\n",
       "        vertical-align: middle;\n",
       "    }\n",
       "\n",
       "    .dataframe tbody tr th {\n",
       "        vertical-align: top;\n",
       "    }\n",
       "\n",
       "    .dataframe thead th {\n",
       "        text-align: right;\n",
       "    }\n",
       "</style>\n",
       "<table border=\"1\" class=\"dataframe\">\n",
       "  <thead>\n",
       "    <tr style=\"text-align: right;\">\n",
       "      <th></th>\n",
       "      <th>current_temp</th>\n",
       "      <th>servere_headche</th>\n",
       "      <th>pain_behind_the_eyes</th>\n",
       "      <th>joint_muscle_aches</th>\n",
       "      <th>metallic_taste_in_the_mouth</th>\n",
       "      <th>appetite_loss</th>\n",
       "      <th>addominal_pain</th>\n",
       "      <th>nausea_vomiting</th>\n",
       "      <th>Malaria</th>\n",
       "    </tr>\n",
       "  </thead>\n",
       "  <tbody>\n",
       "    <tr>\n",
       "      <th>0</th>\n",
       "      <td>-0.047619</td>\n",
       "      <td>1</td>\n",
       "      <td>0</td>\n",
       "      <td>0</td>\n",
       "      <td>1</td>\n",
       "      <td>1</td>\n",
       "      <td>1</td>\n",
       "      <td>0</td>\n",
       "      <td>1</td>\n",
       "    </tr>\n",
       "    <tr>\n",
       "      <th>1</th>\n",
       "      <td>-0.009524</td>\n",
       "      <td>0</td>\n",
       "      <td>1</td>\n",
       "      <td>1</td>\n",
       "      <td>0</td>\n",
       "      <td>0</td>\n",
       "      <td>0</td>\n",
       "      <td>0</td>\n",
       "      <td>0</td>\n",
       "    </tr>\n",
       "    <tr>\n",
       "      <th>2</th>\n",
       "      <td>-0.009524</td>\n",
       "      <td>0</td>\n",
       "      <td>0</td>\n",
       "      <td>0</td>\n",
       "      <td>1</td>\n",
       "      <td>1</td>\n",
       "      <td>1</td>\n",
       "      <td>1</td>\n",
       "      <td>1</td>\n",
       "    </tr>\n",
       "    <tr>\n",
       "      <th>3</th>\n",
       "      <td>-0.038095</td>\n",
       "      <td>1</td>\n",
       "      <td>1</td>\n",
       "      <td>0</td>\n",
       "      <td>0</td>\n",
       "      <td>0</td>\n",
       "      <td>0</td>\n",
       "      <td>0</td>\n",
       "      <td>0</td>\n",
       "    </tr>\n",
       "    <tr>\n",
       "      <th>4</th>\n",
       "      <td>-0.038095</td>\n",
       "      <td>1</td>\n",
       "      <td>0</td>\n",
       "      <td>0</td>\n",
       "      <td>0</td>\n",
       "      <td>0</td>\n",
       "      <td>0</td>\n",
       "      <td>1</td>\n",
       "      <td>0</td>\n",
       "    </tr>\n",
       "    <tr>\n",
       "      <th>...</th>\n",
       "      <td>...</td>\n",
       "      <td>...</td>\n",
       "      <td>...</td>\n",
       "      <td>...</td>\n",
       "      <td>...</td>\n",
       "      <td>...</td>\n",
       "      <td>...</td>\n",
       "      <td>...</td>\n",
       "      <td>...</td>\n",
       "    </tr>\n",
       "    <tr>\n",
       "      <th>103</th>\n",
       "      <td>-0.014286</td>\n",
       "      <td>1</td>\n",
       "      <td>1</td>\n",
       "      <td>0</td>\n",
       "      <td>1</td>\n",
       "      <td>0</td>\n",
       "      <td>0</td>\n",
       "      <td>0</td>\n",
       "      <td>1</td>\n",
       "    </tr>\n",
       "    <tr>\n",
       "      <th>104</th>\n",
       "      <td>-0.019048</td>\n",
       "      <td>1</td>\n",
       "      <td>1</td>\n",
       "      <td>1</td>\n",
       "      <td>0</td>\n",
       "      <td>0</td>\n",
       "      <td>0</td>\n",
       "      <td>0</td>\n",
       "      <td>1</td>\n",
       "    </tr>\n",
       "    <tr>\n",
       "      <th>105</th>\n",
       "      <td>-0.038095</td>\n",
       "      <td>1</td>\n",
       "      <td>0</td>\n",
       "      <td>1</td>\n",
       "      <td>0</td>\n",
       "      <td>0</td>\n",
       "      <td>1</td>\n",
       "      <td>0</td>\n",
       "      <td>1</td>\n",
       "    </tr>\n",
       "    <tr>\n",
       "      <th>106</th>\n",
       "      <td>0.000000</td>\n",
       "      <td>1</td>\n",
       "      <td>0</td>\n",
       "      <td>1</td>\n",
       "      <td>0</td>\n",
       "      <td>1</td>\n",
       "      <td>0</td>\n",
       "      <td>1</td>\n",
       "      <td>1</td>\n",
       "    </tr>\n",
       "    <tr>\n",
       "      <th>107</th>\n",
       "      <td>-1.000000</td>\n",
       "      <td>1</td>\n",
       "      <td>0</td>\n",
       "      <td>1</td>\n",
       "      <td>0</td>\n",
       "      <td>0</td>\n",
       "      <td>0</td>\n",
       "      <td>1</td>\n",
       "      <td>1</td>\n",
       "    </tr>\n",
       "  </tbody>\n",
       "</table>\n",
       "<p>108 rows × 9 columns</p>\n",
       "</div>"
      ],
      "text/plain": [
       "     current_temp  servere_headche  pain_behind_the_eyes  joint_muscle_aches  \\\n",
       "0       -0.047619                1                     0                   0   \n",
       "1       -0.009524                0                     1                   1   \n",
       "2       -0.009524                0                     0                   0   \n",
       "3       -0.038095                1                     1                   0   \n",
       "4       -0.038095                1                     0                   0   \n",
       "..            ...              ...                   ...                 ...   \n",
       "103     -0.014286                1                     1                   0   \n",
       "104     -0.019048                1                     1                   1   \n",
       "105     -0.038095                1                     0                   1   \n",
       "106      0.000000                1                     0                   1   \n",
       "107     -1.000000                1                     0                   1   \n",
       "\n",
       "     metallic_taste_in_the_mouth  appetite_loss  addominal_pain  \\\n",
       "0                              1              1               1   \n",
       "1                              0              0               0   \n",
       "2                              1              1               1   \n",
       "3                              0              0               0   \n",
       "4                              0              0               0   \n",
       "..                           ...            ...             ...   \n",
       "103                            1              0               0   \n",
       "104                            0              0               0   \n",
       "105                            0              0               1   \n",
       "106                            0              1               0   \n",
       "107                            0              0               0   \n",
       "\n",
       "     nausea_vomiting  Malaria  \n",
       "0                  0        1  \n",
       "1                  0        0  \n",
       "2                  1        1  \n",
       "3                  0        0  \n",
       "4                  1        0  \n",
       "..               ...      ...  \n",
       "103                0        1  \n",
       "104                0        1  \n",
       "105                0        1  \n",
       "106                1        1  \n",
       "107                1        1  \n",
       "\n",
       "[108 rows x 9 columns]"
      ]
     },
     "execution_count": 5,
     "metadata": {},
     "output_type": "execute_result"
    }
   ],
   "source": [
    "wrangle(data)"
   ]
  },
  {
   "cell_type": "code",
   "execution_count": 6,
   "id": "c3cf2b91-1895-48d4-97b3-e159e4d7711a",
   "metadata": {},
   "outputs": [
    {
     "data": {
      "text/html": [
       "<div>\n",
       "<style scoped>\n",
       "    .dataframe tbody tr th:only-of-type {\n",
       "        vertical-align: middle;\n",
       "    }\n",
       "\n",
       "    .dataframe tbody tr th {\n",
       "        vertical-align: top;\n",
       "    }\n",
       "\n",
       "    .dataframe thead th {\n",
       "        text-align: right;\n",
       "    }\n",
       "</style>\n",
       "<table border=\"1\" class=\"dataframe\">\n",
       "  <thead>\n",
       "    <tr style=\"text-align: right;\">\n",
       "      <th></th>\n",
       "      <th>current_temp</th>\n",
       "      <th>servere_headche</th>\n",
       "      <th>pain_behind_the_eyes</th>\n",
       "      <th>joint_muscle_aches</th>\n",
       "      <th>metallic_taste_in_the_mouth</th>\n",
       "      <th>appetite_loss</th>\n",
       "      <th>addominal_pain</th>\n",
       "      <th>nausea_vomiting</th>\n",
       "      <th>Malaria</th>\n",
       "    </tr>\n",
       "  </thead>\n",
       "  <tbody>\n",
       "    <tr>\n",
       "      <th>0</th>\n",
       "      <td>-0.047619</td>\n",
       "      <td>1</td>\n",
       "      <td>0</td>\n",
       "      <td>0</td>\n",
       "      <td>1</td>\n",
       "      <td>1</td>\n",
       "      <td>1</td>\n",
       "      <td>0</td>\n",
       "      <td>1</td>\n",
       "    </tr>\n",
       "    <tr>\n",
       "      <th>1</th>\n",
       "      <td>-0.009524</td>\n",
       "      <td>0</td>\n",
       "      <td>1</td>\n",
       "      <td>1</td>\n",
       "      <td>0</td>\n",
       "      <td>0</td>\n",
       "      <td>0</td>\n",
       "      <td>0</td>\n",
       "      <td>0</td>\n",
       "    </tr>\n",
       "    <tr>\n",
       "      <th>2</th>\n",
       "      <td>-0.009524</td>\n",
       "      <td>0</td>\n",
       "      <td>0</td>\n",
       "      <td>0</td>\n",
       "      <td>1</td>\n",
       "      <td>1</td>\n",
       "      <td>1</td>\n",
       "      <td>1</td>\n",
       "      <td>1</td>\n",
       "    </tr>\n",
       "    <tr>\n",
       "      <th>3</th>\n",
       "      <td>-0.038095</td>\n",
       "      <td>1</td>\n",
       "      <td>1</td>\n",
       "      <td>0</td>\n",
       "      <td>0</td>\n",
       "      <td>0</td>\n",
       "      <td>0</td>\n",
       "      <td>0</td>\n",
       "      <td>0</td>\n",
       "    </tr>\n",
       "    <tr>\n",
       "      <th>4</th>\n",
       "      <td>-0.038095</td>\n",
       "      <td>1</td>\n",
       "      <td>0</td>\n",
       "      <td>0</td>\n",
       "      <td>0</td>\n",
       "      <td>0</td>\n",
       "      <td>0</td>\n",
       "      <td>1</td>\n",
       "      <td>0</td>\n",
       "    </tr>\n",
       "  </tbody>\n",
       "</table>\n",
       "</div>"
      ],
      "text/plain": [
       "   current_temp  servere_headche  pain_behind_the_eyes  joint_muscle_aches  \\\n",
       "0     -0.047619                1                     0                   0   \n",
       "1     -0.009524                0                     1                   1   \n",
       "2     -0.009524                0                     0                   0   \n",
       "3     -0.038095                1                     1                   0   \n",
       "4     -0.038095                1                     0                   0   \n",
       "\n",
       "   metallic_taste_in_the_mouth  appetite_loss  addominal_pain  \\\n",
       "0                            1              1               1   \n",
       "1                            0              0               0   \n",
       "2                            1              1               1   \n",
       "3                            0              0               0   \n",
       "4                            0              0               0   \n",
       "\n",
       "   nausea_vomiting  Malaria  \n",
       "0                0        1  \n",
       "1                0        0  \n",
       "2                1        1  \n",
       "3                0        0  \n",
       "4                1        0  "
      ]
     },
     "execution_count": 6,
     "metadata": {},
     "output_type": "execute_result"
    }
   ],
   "source": [
    "data.head()"
   ]
  },
  {
   "cell_type": "code",
   "execution_count": 7,
   "id": "59d385b8-8665-42f0-af2a-0c8841d1cca2",
   "metadata": {},
   "outputs": [],
   "source": [
    "from sklearn.metrics import r2_score, mean_squared_error\n",
    "from sklearn.linear_model import LogisticRegression\n",
    "from sklearn.tree import DecisionTreeClassifier\n",
    "from sklearn.neural_network import MLPClassifier\n",
    "from sklearn.model_selection import train_test_split\n",
    "from sklearn.ensemble import VotingClassifier"
   ]
  },
  {
   "cell_type": "code",
   "execution_count": 8,
   "id": "a50e9bb7-2b70-4ad1-931a-a67600f95bdb",
   "metadata": {},
   "outputs": [],
   "source": [
    "X = data.drop(columns=['Malaria'])\n",
    "y = data.Malaria"
   ]
  },
  {
   "cell_type": "code",
   "execution_count": 9,
   "id": "7288cb95-6450-48a6-ab4f-cee4db5afe28",
   "metadata": {},
   "outputs": [],
   "source": [
    "X_train, X_test, y_train, y_test = train_test_split(X, y, test_size=.2, random_state=42)"
   ]
  },
  {
   "cell_type": "code",
   "execution_count": 10,
   "id": "c77866ad-6b30-4387-ab1e-3dd46bbbf28b",
   "metadata": {},
   "outputs": [],
   "source": [
    "logistic = LogisticRegression(random_state=42, max_iter=200)\n",
    "dt = DecisionTreeClassifier(random_state=42)\n",
    "MLP = MLPClassifier(random_state=42, max_iter=1000)\n",
    "\n",
    "# Create a voting classifier (hard voting)\n",
    "voting_clf = VotingClassifier(estimators=[\n",
    "    ('logR', logistic), \n",
    "    ('dt', dt), \n",
    "    ('MLP', MLP)\n",
    "], voting='hard')"
   ]
  },
  {
   "cell_type": "code",
   "execution_count": 11,
   "id": "153c1edf-425e-404d-b2c0-951ba1493d39",
   "metadata": {},
   "outputs": [
    {
     "data": {
      "text/plain": [
       "(86, 8)"
      ]
     },
     "execution_count": 11,
     "metadata": {},
     "output_type": "execute_result"
    }
   ],
   "source": [
    "X_train.shape"
   ]
  },
  {
   "cell_type": "code",
   "execution_count": 12,
   "id": "41dc1e18-4ea5-4fd8-9a0e-e0e1dccd3460",
   "metadata": {},
   "outputs": [
    {
     "data": {
      "text/html": [
       "<style>#sk-container-id-1 {color: black;}#sk-container-id-1 pre{padding: 0;}#sk-container-id-1 div.sk-toggleable {background-color: white;}#sk-container-id-1 label.sk-toggleable__label {cursor: pointer;display: block;width: 100%;margin-bottom: 0;padding: 0.3em;box-sizing: border-box;text-align: center;}#sk-container-id-1 label.sk-toggleable__label-arrow:before {content: \"▸\";float: left;margin-right: 0.25em;color: #696969;}#sk-container-id-1 label.sk-toggleable__label-arrow:hover:before {color: black;}#sk-container-id-1 div.sk-estimator:hover label.sk-toggleable__label-arrow:before {color: black;}#sk-container-id-1 div.sk-toggleable__content {max-height: 0;max-width: 0;overflow: hidden;text-align: left;background-color: #f0f8ff;}#sk-container-id-1 div.sk-toggleable__content pre {margin: 0.2em;color: black;border-radius: 0.25em;background-color: #f0f8ff;}#sk-container-id-1 input.sk-toggleable__control:checked~div.sk-toggleable__content {max-height: 200px;max-width: 100%;overflow: auto;}#sk-container-id-1 input.sk-toggleable__control:checked~label.sk-toggleable__label-arrow:before {content: \"▾\";}#sk-container-id-1 div.sk-estimator input.sk-toggleable__control:checked~label.sk-toggleable__label {background-color: #d4ebff;}#sk-container-id-1 div.sk-label input.sk-toggleable__control:checked~label.sk-toggleable__label {background-color: #d4ebff;}#sk-container-id-1 input.sk-hidden--visually {border: 0;clip: rect(1px 1px 1px 1px);clip: rect(1px, 1px, 1px, 1px);height: 1px;margin: -1px;overflow: hidden;padding: 0;position: absolute;width: 1px;}#sk-container-id-1 div.sk-estimator {font-family: monospace;background-color: #f0f8ff;border: 1px dotted black;border-radius: 0.25em;box-sizing: border-box;margin-bottom: 0.5em;}#sk-container-id-1 div.sk-estimator:hover {background-color: #d4ebff;}#sk-container-id-1 div.sk-parallel-item::after {content: \"\";width: 100%;border-bottom: 1px solid gray;flex-grow: 1;}#sk-container-id-1 div.sk-label:hover label.sk-toggleable__label {background-color: #d4ebff;}#sk-container-id-1 div.sk-serial::before {content: \"\";position: absolute;border-left: 1px solid gray;box-sizing: border-box;top: 0;bottom: 0;left: 50%;z-index: 0;}#sk-container-id-1 div.sk-serial {display: flex;flex-direction: column;align-items: center;background-color: white;padding-right: 0.2em;padding-left: 0.2em;position: relative;}#sk-container-id-1 div.sk-item {position: relative;z-index: 1;}#sk-container-id-1 div.sk-parallel {display: flex;align-items: stretch;justify-content: center;background-color: white;position: relative;}#sk-container-id-1 div.sk-item::before, #sk-container-id-1 div.sk-parallel-item::before {content: \"\";position: absolute;border-left: 1px solid gray;box-sizing: border-box;top: 0;bottom: 0;left: 50%;z-index: -1;}#sk-container-id-1 div.sk-parallel-item {display: flex;flex-direction: column;z-index: 1;position: relative;background-color: white;}#sk-container-id-1 div.sk-parallel-item:first-child::after {align-self: flex-end;width: 50%;}#sk-container-id-1 div.sk-parallel-item:last-child::after {align-self: flex-start;width: 50%;}#sk-container-id-1 div.sk-parallel-item:only-child::after {width: 0;}#sk-container-id-1 div.sk-dashed-wrapped {border: 1px dashed gray;margin: 0 0.4em 0.5em 0.4em;box-sizing: border-box;padding-bottom: 0.4em;background-color: white;}#sk-container-id-1 div.sk-label label {font-family: monospace;font-weight: bold;display: inline-block;line-height: 1.2em;}#sk-container-id-1 div.sk-label-container {text-align: center;}#sk-container-id-1 div.sk-container {/* jupyter's `normalize.less` sets `[hidden] { display: none; }` but bootstrap.min.css set `[hidden] { display: none !important; }` so we also need the `!important` here to be able to override the default hidden behavior on the sphinx rendered scikit-learn.org. See: https://github.com/scikit-learn/scikit-learn/issues/21755 */display: inline-block !important;position: relative;}#sk-container-id-1 div.sk-text-repr-fallback {display: none;}</style><div id=\"sk-container-id-1\" class=\"sk-top-container\"><div class=\"sk-text-repr-fallback\"><pre>VotingClassifier(estimators=[(&#x27;logR&#x27;,\n",
       "                              LogisticRegression(max_iter=200,\n",
       "                                                 random_state=42)),\n",
       "                             (&#x27;dt&#x27;, DecisionTreeClassifier(random_state=42)),\n",
       "                             (&#x27;MLP&#x27;,\n",
       "                              MLPClassifier(max_iter=1000, random_state=42))])</pre><b>In a Jupyter environment, please rerun this cell to show the HTML representation or trust the notebook. <br />On GitHub, the HTML representation is unable to render, please try loading this page with nbviewer.org.</b></div><div class=\"sk-container\" hidden><div class=\"sk-item sk-dashed-wrapped\"><div class=\"sk-label-container\"><div class=\"sk-label sk-toggleable\"><input class=\"sk-toggleable__control sk-hidden--visually\" id=\"sk-estimator-id-1\" type=\"checkbox\" ><label for=\"sk-estimator-id-1\" class=\"sk-toggleable__label sk-toggleable__label-arrow\">VotingClassifier</label><div class=\"sk-toggleable__content\"><pre>VotingClassifier(estimators=[(&#x27;logR&#x27;,\n",
       "                              LogisticRegression(max_iter=200,\n",
       "                                                 random_state=42)),\n",
       "                             (&#x27;dt&#x27;, DecisionTreeClassifier(random_state=42)),\n",
       "                             (&#x27;MLP&#x27;,\n",
       "                              MLPClassifier(max_iter=1000, random_state=42))])</pre></div></div></div><div class=\"sk-parallel\"><div class=\"sk-parallel-item\"><div class=\"sk-item\"><div class=\"sk-label-container\"><div class=\"sk-label sk-toggleable\"><label>logR</label></div></div><div class=\"sk-serial\"><div class=\"sk-item\"><div class=\"sk-estimator sk-toggleable\"><input class=\"sk-toggleable__control sk-hidden--visually\" id=\"sk-estimator-id-2\" type=\"checkbox\" ><label for=\"sk-estimator-id-2\" class=\"sk-toggleable__label sk-toggleable__label-arrow\">LogisticRegression</label><div class=\"sk-toggleable__content\"><pre>LogisticRegression(max_iter=200, random_state=42)</pre></div></div></div></div></div></div><div class=\"sk-parallel-item\"><div class=\"sk-item\"><div class=\"sk-label-container\"><div class=\"sk-label sk-toggleable\"><label>dt</label></div></div><div class=\"sk-serial\"><div class=\"sk-item\"><div class=\"sk-estimator sk-toggleable\"><input class=\"sk-toggleable__control sk-hidden--visually\" id=\"sk-estimator-id-3\" type=\"checkbox\" ><label for=\"sk-estimator-id-3\" class=\"sk-toggleable__label sk-toggleable__label-arrow\">DecisionTreeClassifier</label><div class=\"sk-toggleable__content\"><pre>DecisionTreeClassifier(random_state=42)</pre></div></div></div></div></div></div><div class=\"sk-parallel-item\"><div class=\"sk-item\"><div class=\"sk-label-container\"><div class=\"sk-label sk-toggleable\"><label>MLP</label></div></div><div class=\"sk-serial\"><div class=\"sk-item\"><div class=\"sk-estimator sk-toggleable\"><input class=\"sk-toggleable__control sk-hidden--visually\" id=\"sk-estimator-id-4\" type=\"checkbox\" ><label for=\"sk-estimator-id-4\" class=\"sk-toggleable__label sk-toggleable__label-arrow\">MLPClassifier</label><div class=\"sk-toggleable__content\"><pre>MLPClassifier(max_iter=1000, random_state=42)</pre></div></div></div></div></div></div></div></div></div></div>"
      ],
      "text/plain": [
       "VotingClassifier(estimators=[('logR',\n",
       "                              LogisticRegression(max_iter=200,\n",
       "                                                 random_state=42)),\n",
       "                             ('dt', DecisionTreeClassifier(random_state=42)),\n",
       "                             ('MLP',\n",
       "                              MLPClassifier(max_iter=1000, random_state=42))])"
      ]
     },
     "execution_count": 12,
     "metadata": {},
     "output_type": "execute_result"
    }
   ],
   "source": [
    "# Train the voting classifier\n",
    "voting_clf.fit(X_train, y_train)\n"
   ]
  },
  {
   "cell_type": "code",
   "execution_count": 13,
   "id": "5a538444-16e4-4f37-b312-f0401c2ec5b8",
   "metadata": {},
   "outputs": [
    {
     "ename": "NameError",
     "evalue": "name 'get_users_details' is not defined",
     "output_type": "error",
     "traceback": [
      "\u001b[1;31m---------------------------------------------------------------------------\u001b[0m",
      "\u001b[1;31mNameError\u001b[0m                                 Traceback (most recent call last)",
      "Cell \u001b[1;32mIn[13], line 3\u001b[0m\n\u001b[0;32m      1\u001b[0m \u001b[38;5;28;01mimport\u001b[39;00m \u001b[38;5;21;01mnumpy\u001b[39;00m \u001b[38;5;28;01mas\u001b[39;00m \u001b[38;5;21;01mnp\u001b[39;00m\n\u001b[1;32m----> 3\u001b[0m details \u001b[38;5;241m=\u001b[39m \u001b[43mget_users_details\u001b[49m(first)\n\u001b[0;32m      4\u001b[0m inputs \u001b[38;5;241m=\u001b[39m np\u001b[38;5;241m.\u001b[39marray(\u001b[38;5;28mlist\u001b[39m(details\u001b[38;5;241m.\u001b[39mvalues()))\u001b[38;5;241m.\u001b[39mreshape(\u001b[38;5;241m1\u001b[39m, \u001b[38;5;241m-\u001b[39m\u001b[38;5;241m1\u001b[39m)\n",
      "\u001b[1;31mNameError\u001b[0m: name 'get_users_details' is not defined"
     ]
    }
   ],
   "source": [
    "import numpy as np\n",
    "\n",
    "details = get_users_details(first)\n",
    "inputs = np.array(list(details.values())).reshape(1, -1)"
   ]
  },
  {
   "cell_type": "code",
   "execution_count": 14,
   "id": "29a2641b-c7df-4ed1-9f63-aac780b0a883",
   "metadata": {},
   "outputs": [
    {
     "data": {
      "text/html": [
       "<div>\n",
       "<style scoped>\n",
       "    .dataframe tbody tr th:only-of-type {\n",
       "        vertical-align: middle;\n",
       "    }\n",
       "\n",
       "    .dataframe tbody tr th {\n",
       "        vertical-align: top;\n",
       "    }\n",
       "\n",
       "    .dataframe thead th {\n",
       "        text-align: right;\n",
       "    }\n",
       "</style>\n",
       "<table border=\"1\" class=\"dataframe\">\n",
       "  <thead>\n",
       "    <tr style=\"text-align: right;\">\n",
       "      <th></th>\n",
       "      <th>current_temp</th>\n",
       "      <th>servere_headche</th>\n",
       "      <th>pain_behind_the_eyes</th>\n",
       "      <th>joint_muscle_aches</th>\n",
       "      <th>metallic_taste_in_the_mouth</th>\n",
       "      <th>appetite_loss</th>\n",
       "      <th>addominal_pain</th>\n",
       "      <th>nausea_vomiting</th>\n",
       "    </tr>\n",
       "  </thead>\n",
       "  <tbody>\n",
       "    <tr>\n",
       "      <th>64</th>\n",
       "      <td>-0.038095</td>\n",
       "      <td>1</td>\n",
       "      <td>0</td>\n",
       "      <td>0</td>\n",
       "      <td>0</td>\n",
       "      <td>0</td>\n",
       "      <td>0</td>\n",
       "      <td>1</td>\n",
       "    </tr>\n",
       "    <tr>\n",
       "      <th>26</th>\n",
       "      <td>-0.009524</td>\n",
       "      <td>0</td>\n",
       "      <td>0</td>\n",
       "      <td>0</td>\n",
       "      <td>1</td>\n",
       "      <td>1</td>\n",
       "      <td>1</td>\n",
       "      <td>1</td>\n",
       "    </tr>\n",
       "    <tr>\n",
       "      <th>22</th>\n",
       "      <td>0.000000</td>\n",
       "      <td>1</td>\n",
       "      <td>0</td>\n",
       "      <td>1</td>\n",
       "      <td>0</td>\n",
       "      <td>1</td>\n",
       "      <td>0</td>\n",
       "      <td>1</td>\n",
       "    </tr>\n",
       "    <tr>\n",
       "      <th>31</th>\n",
       "      <td>-0.014286</td>\n",
       "      <td>1</td>\n",
       "      <td>1</td>\n",
       "      <td>0</td>\n",
       "      <td>1</td>\n",
       "      <td>0</td>\n",
       "      <td>0</td>\n",
       "      <td>0</td>\n",
       "    </tr>\n",
       "    <tr>\n",
       "      <th>47</th>\n",
       "      <td>-1.000000</td>\n",
       "      <td>1</td>\n",
       "      <td>0</td>\n",
       "      <td>1</td>\n",
       "      <td>0</td>\n",
       "      <td>0</td>\n",
       "      <td>0</td>\n",
       "      <td>1</td>\n",
       "    </tr>\n",
       "    <tr>\n",
       "      <th>...</th>\n",
       "      <td>...</td>\n",
       "      <td>...</td>\n",
       "      <td>...</td>\n",
       "      <td>...</td>\n",
       "      <td>...</td>\n",
       "      <td>...</td>\n",
       "      <td>...</td>\n",
       "      <td>...</td>\n",
       "    </tr>\n",
       "    <tr>\n",
       "      <th>71</th>\n",
       "      <td>-1.000000</td>\n",
       "      <td>1</td>\n",
       "      <td>0</td>\n",
       "      <td>1</td>\n",
       "      <td>0</td>\n",
       "      <td>0</td>\n",
       "      <td>0</td>\n",
       "      <td>1</td>\n",
       "    </tr>\n",
       "    <tr>\n",
       "      <th>14</th>\n",
       "      <td>-0.009524</td>\n",
       "      <td>0</td>\n",
       "      <td>0</td>\n",
       "      <td>0</td>\n",
       "      <td>1</td>\n",
       "      <td>1</td>\n",
       "      <td>1</td>\n",
       "      <td>1</td>\n",
       "    </tr>\n",
       "    <tr>\n",
       "      <th>92</th>\n",
       "      <td>-0.019048</td>\n",
       "      <td>1</td>\n",
       "      <td>1</td>\n",
       "      <td>1</td>\n",
       "      <td>0</td>\n",
       "      <td>0</td>\n",
       "      <td>0</td>\n",
       "      <td>0</td>\n",
       "    </tr>\n",
       "    <tr>\n",
       "      <th>51</th>\n",
       "      <td>-0.038095</td>\n",
       "      <td>1</td>\n",
       "      <td>1</td>\n",
       "      <td>0</td>\n",
       "      <td>0</td>\n",
       "      <td>0</td>\n",
       "      <td>0</td>\n",
       "      <td>0</td>\n",
       "    </tr>\n",
       "    <tr>\n",
       "      <th>102</th>\n",
       "      <td>-0.009524</td>\n",
       "      <td>1</td>\n",
       "      <td>0</td>\n",
       "      <td>0</td>\n",
       "      <td>1</td>\n",
       "      <td>0</td>\n",
       "      <td>0</td>\n",
       "      <td>0</td>\n",
       "    </tr>\n",
       "  </tbody>\n",
       "</table>\n",
       "<p>86 rows × 8 columns</p>\n",
       "</div>"
      ],
      "text/plain": [
       "     current_temp  servere_headche  pain_behind_the_eyes  joint_muscle_aches  \\\n",
       "64      -0.038095                1                     0                   0   \n",
       "26      -0.009524                0                     0                   0   \n",
       "22       0.000000                1                     0                   1   \n",
       "31      -0.014286                1                     1                   0   \n",
       "47      -1.000000                1                     0                   1   \n",
       "..            ...              ...                   ...                 ...   \n",
       "71      -1.000000                1                     0                   1   \n",
       "14      -0.009524                0                     0                   0   \n",
       "92      -0.019048                1                     1                   1   \n",
       "51      -0.038095                1                     1                   0   \n",
       "102     -0.009524                1                     0                   0   \n",
       "\n",
       "     metallic_taste_in_the_mouth  appetite_loss  addominal_pain  \\\n",
       "64                             0              0               0   \n",
       "26                             1              1               1   \n",
       "22                             0              1               0   \n",
       "31                             1              0               0   \n",
       "47                             0              0               0   \n",
       "..                           ...            ...             ...   \n",
       "71                             0              0               0   \n",
       "14                             1              1               1   \n",
       "92                             0              0               0   \n",
       "51                             0              0               0   \n",
       "102                            1              0               0   \n",
       "\n",
       "     nausea_vomiting  \n",
       "64                 1  \n",
       "26                 1  \n",
       "22                 1  \n",
       "31                 0  \n",
       "47                 1  \n",
       "..               ...  \n",
       "71                 1  \n",
       "14                 1  \n",
       "92                 0  \n",
       "51                 0  \n",
       "102                0  \n",
       "\n",
       "[86 rows x 8 columns]"
      ]
     },
     "execution_count": 14,
     "metadata": {},
     "output_type": "execute_result"
    }
   ],
   "source": [
    "X_train"
   ]
  },
  {
   "cell_type": "code",
   "execution_count": null,
   "id": "d3c667f3-ac45-4240-994a-f4b3d4e19b59",
   "metadata": {},
   "outputs": [],
   "source": [
    "\"current_temp\": 1,\n",
    "  \"servere_headche\": 1,\n",
    "  \"pain_behind_the_eyes\": 0,\n",
    "  \"joint_muscle_aches\": 0,\n",
    "  \"metallic_taste_in_the_mouth\": 0,\n",
    "  \"appetite_loss\": 1,\n",
    "  \"addominal_pain\": 1,\n",
    "  \"nausea_vomiting\": 0,\n",
    "  \"diarrhoea\": 0"
   ]
  },
  {
   "cell_type": "code",
   "execution_count": 15,
   "id": "59c49a82-7522-403f-9049-2b9950ed64e9",
   "metadata": {},
   "outputs": [],
   "source": [
    "prediction = voting_clf.predict(X_test)"
   ]
  },
  {
   "cell_type": "code",
   "execution_count": 16,
   "id": "949827bd-9f03-4347-8b40-5ef858f7d8c2",
   "metadata": {},
   "outputs": [
    {
     "data": {
      "text/plain": [
       "array([1, 1, 0, 1, 1, 1, 1, 1, 1, 1, 1, 1, 1, 1, 1, 1, 1, 0, 1, 1, 1, 1],\n",
       "      dtype=int64)"
      ]
     },
     "execution_count": 16,
     "metadata": {},
     "output_type": "execute_result"
    }
   ],
   "source": [
    "prediction"
   ]
  },
  {
   "cell_type": "code",
   "execution_count": 17,
   "id": "36ad6aea-99da-4ee0-9514-50347ba7b550",
   "metadata": {},
   "outputs": [
    {
     "data": {
      "text/plain": [
       "77     1\n",
       "10     1\n",
       "4      0\n",
       "83     1\n",
       "62     1\n",
       "67     1\n",
       "30     1\n",
       "45     1\n",
       "95     1\n",
       "11     1\n",
       "81     1\n",
       "79     1\n",
       "0      1\n",
       "80     1\n",
       "18     1\n",
       "69     1\n",
       "56     1\n",
       "76     0\n",
       "106    1\n",
       "42     1\n",
       "12     1\n",
       "36     1\n",
       "Name: Malaria, dtype: int64"
      ]
     },
     "execution_count": 17,
     "metadata": {},
     "output_type": "execute_result"
    }
   ],
   "source": [
    "y_test"
   ]
  },
  {
   "cell_type": "code",
   "execution_count": 18,
   "id": "6b0195e9-fa9d-47e8-87cb-18e17b497242",
   "metadata": {},
   "outputs": [
    {
     "name": "stdout",
     "output_type": "stream",
     "text": [
      "^C\n"
     ]
    }
   ],
   "source": [
    "# !pip install --upgrade scikit-learn"
   ]
  },
  {
   "cell_type": "code",
   "execution_count": 27,
   "id": "926cce73-bc60-48e5-aa38-2cb546b7c8a3",
   "metadata": {},
   "outputs": [
    {
     "name": "stdout",
     "output_type": "stream",
     "text": [
      "1.26.0\n",
      "1.3.2\n",
      "1.13.3\n",
      "1.28.2\n"
     ]
    }
   ],
   "source": [
    "import sklearn\n",
    "import joblib\n",
    "import openai\n",
    "# import python-dotenv\n",
    "import streamlit\n",
    "print(np.__version__)\n",
    "print(joblib.__version__)\n",
    "print(openai.__version__)\n",
    "print(streamlit.__version__)"
   ]
  },
  {
   "cell_type": "code",
   "execution_count": 73,
   "id": "78fc2228-bc8a-4591-aad8-3c6c727315e8",
   "metadata": {},
   "outputs": [
    {
     "data": {
      "text/plain": [
       "1.0"
      ]
     },
     "execution_count": 73,
     "metadata": {},
     "output_type": "execute_result"
    }
   ],
   "source": [
    "r2_score(y_test, prediction)"
   ]
  },
  {
   "cell_type": "markdown",
   "id": "9892991f-3cdd-480f-9fa4-c92cd56f65ce",
   "metadata": {},
   "source": [
    "### Save Model"
   ]
  },
  {
   "cell_type": "code",
   "execution_count": 20,
   "id": "a6676db0-0752-4a6c-9764-bc7c813faa51",
   "metadata": {
    "scrolled": true
   },
   "outputs": [
    {
     "data": {
      "text/plain": [
       "['Job_model.joblib']"
      ]
     },
     "execution_count": 20,
     "metadata": {},
     "output_type": "execute_result"
    },
    {
     "name": "stdout",
     "output_type": "stream",
     "text": [
      "Requirement already satisfied: scikit-learn in c:\\users\\hp\\appdata\\local\\programs\\python\\python311\\lib\\site-packages (1.3.1)\n",
      "Collecting scikit-learn\n",
      "  Downloading scikit_learn-1.5.1-cp311-cp311-win_amd64.whl.metadata (12 kB)\n",
      "Requirement already satisfied: numpy>=1.19.5 in c:\\users\\hp\\appdata\\local\\programs\\python\\python311\\lib\\site-packages (from scikit-learn) (1.26.0)\n",
      "Requirement already satisfied: scipy>=1.6.0 in c:\\users\\hp\\appdata\\local\\programs\\python\\python311\\lib\\site-packages (from scikit-learn) (1.11.3)\n",
      "Requirement already satisfied: joblib>=1.2.0 in c:\\users\\hp\\appdata\\local\\programs\\python\\python311\\lib\\site-packages (from scikit-learn) (1.3.2)\n",
      "Requirement already satisfied: threadpoolctl>=3.1.0 in c:\\users\\hp\\appdata\\local\\programs\\python\\python311\\lib\\site-packages (from scikit-learn) (3.2.0)\n",
      "Downloading scikit_learn-1.5.1-cp311-cp311-win_amd64.whl (11.0 MB)\n",
      "   ---------------------------------------- 0.0/11.0 MB ? eta -:--:--\n",
      "   ---------------------------------------- 0.0/11.0 MB 682.7 kB/s eta 0:00:17\n",
      "   ---------------------------------------- 0.0/11.0 MB 682.7 kB/s eta 0:00:17\n",
      "   ---------------------------------------- 0.0/11.0 MB 682.7 kB/s eta 0:00:17\n",
      "   ---------------------------------------- 0.1/11.0 MB 262.6 kB/s eta 0:00:42\n",
      "   ---------------------------------------- 0.1/11.0 MB 262.6 kB/s eta 0:00:42\n",
      "   ---------------------------------------- 0.1/11.0 MB 245.8 kB/s eta 0:00:45\n",
      "    --------------------------------------- 0.1/11.0 MB 426.7 kB/s eta 0:00:26\n",
      "    --------------------------------------- 0.1/11.0 MB 426.7 kB/s eta 0:00:26\n",
      "    --------------------------------------- 0.1/11.0 MB 426.7 kB/s eta 0:00:26\n",
      "    --------------------------------------- 0.1/11.0 MB 426.7 kB/s eta 0:00:26\n",
      "    --------------------------------------- 0.1/11.0 MB 426.7 kB/s eta 0:00:26\n",
      "    --------------------------------------- 0.1/11.0 MB 426.7 kB/s eta 0:00:26\n",
      "    --------------------------------------- 0.1/11.0 MB 426.7 kB/s eta 0:00:26\n",
      "    --------------------------------------- 0.1/11.0 MB 426.7 kB/s eta 0:00:26\n",
      "    --------------------------------------- 0.1/11.0 MB 426.7 kB/s eta 0:00:26\n",
      "    --------------------------------------- 0.1/11.0 MB 426.7 kB/s eta 0:00:26\n",
      "    --------------------------------------- 0.1/11.0 MB 426.7 kB/s eta 0:00:26\n",
      "    --------------------------------------- 0.1/11.0 MB 426.7 kB/s eta 0:00:26\n",
      "    --------------------------------------- 0.1/11.0 MB 426.7 kB/s eta 0:00:26\n",
      "    --------------------------------------- 0.1/11.0 MB 426.7 kB/s eta 0:00:26\n",
      "    --------------------------------------- 0.1/11.0 MB 426.7 kB/s eta 0:00:26\n",
      "    --------------------------------------- 0.1/11.0 MB 426.7 kB/s eta 0:00:26\n",
      "    --------------------------------------- 0.1/11.0 MB 426.7 kB/s eta 0:00:26\n",
      "    --------------------------------------- 0.1/11.0 MB 426.7 kB/s eta 0:00:26\n",
      "    --------------------------------------- 0.1/11.0 MB 426.7 kB/s eta 0:00:26\n",
      "    --------------------------------------- 0.1/11.0 MB 426.7 kB/s eta 0:00:26\n",
      "    --------------------------------------- 0.2/11.0 MB 148.3 kB/s eta 0:01:13\n",
      "    --------------------------------------- 0.2/11.0 MB 148.3 kB/s eta 0:01:13\n",
      "    --------------------------------------- 0.2/11.0 MB 156.4 kB/s eta 0:01:09\n",
      "    --------------------------------------- 0.2/11.0 MB 156.8 kB/s eta 0:01:09\n",
      "    --------------------------------------- 0.2/11.0 MB 156.8 kB/s eta 0:01:09\n",
      "    --------------------------------------- 0.3/11.0 MB 160.5 kB/s eta 0:01:07\n",
      "   - -------------------------------------- 0.3/11.0 MB 173.6 kB/s eta 0:01:02\n",
      "   - -------------------------------------- 0.3/11.0 MB 185.5 kB/s eta 0:00:58\n",
      "   - -------------------------------------- 0.3/11.0 MB 196.7 kB/s eta 0:00:55\n",
      "   - -------------------------------------- 0.4/11.0 MB 220.5 kB/s eta 0:00:49\n",
      "   - -------------------------------------- 0.5/11.0 MB 252.1 kB/s eta 0:00:42\n",
      "   - -------------------------------------- 0.5/11.0 MB 251.2 kB/s eta 0:00:42\n",
      "   -- ------------------------------------- 0.6/11.0 MB 280.2 kB/s eta 0:00:38\n",
      "   -- ------------------------------------- 0.6/11.0 MB 307.0 kB/s eta 0:00:34\n",
      "   -- ------------------------------------- 0.6/11.0 MB 317.4 kB/s eta 0:00:33\n",
      "   -- ------------------------------------- 0.7/11.0 MB 332.7 kB/s eta 0:00:31\n",
      "   -- ------------------------------------- 0.7/11.0 MB 342.5 kB/s eta 0:00:30\n",
      "   -- ------------------------------------- 0.8/11.0 MB 356.2 kB/s eta 0:00:29\n",
      "   --- ------------------------------------ 0.8/11.0 MB 374.6 kB/s eta 0:00:28\n",
      "   --- ------------------------------------ 0.9/11.0 MB 394.2 kB/s eta 0:00:26\n",
      "   --- ------------------------------------ 0.9/11.0 MB 405.7 kB/s eta 0:00:25\n",
      "   --- ------------------------------------ 1.0/11.0 MB 421.1 kB/s eta 0:00:24\n",
      "   --- ------------------------------------ 1.1/11.0 MB 437.0 kB/s eta 0:00:23\n",
      "   ---- ----------------------------------- 1.1/11.0 MB 455.0 kB/s eta 0:00:22\n",
      "   ---- ----------------------------------- 1.2/11.0 MB 465.8 kB/s eta 0:00:22\n",
      "   ---- ----------------------------------- 1.2/11.0 MB 480.4 kB/s eta 0:00:21\n",
      "   ---- ----------------------------------- 1.3/11.0 MB 496.5 kB/s eta 0:00:20\n",
      "   ---- ----------------------------------- 1.4/11.0 MB 511.0 kB/s eta 0:00:19\n",
      "   ----- ---------------------------------- 1.4/11.0 MB 525.0 kB/s eta 0:00:19\n",
      "   ----- ---------------------------------- 1.5/11.0 MB 546.3 kB/s eta 0:00:18\n",
      "   ----- ---------------------------------- 1.5/11.0 MB 554.8 kB/s eta 0:00:18\n",
      "   ----- ---------------------------------- 1.6/11.0 MB 571.7 kB/s eta 0:00:17\n",
      "   ------ --------------------------------- 1.7/11.0 MB 576.6 kB/s eta 0:00:17\n",
      "   ------ --------------------------------- 1.7/11.0 MB 588.2 kB/s eta 0:00:16\n",
      "   ------ --------------------------------- 1.8/11.0 MB 607.2 kB/s eta 0:00:16\n",
      "   ------ --------------------------------- 1.9/11.0 MB 621.2 kB/s eta 0:00:15\n",
      "   ------- -------------------------------- 1.9/11.0 MB 628.4 kB/s eta 0:00:15\n",
      "   ------- -------------------------------- 2.0/11.0 MB 642.3 kB/s eta 0:00:14\n",
      "   ------- -------------------------------- 2.1/11.0 MB 658.7 kB/s eta 0:00:14\n",
      "   ------- -------------------------------- 2.2/11.0 MB 674.6 kB/s eta 0:00:14\n",
      "   -------- ------------------------------- 2.2/11.0 MB 683.7 kB/s eta 0:00:13\n",
      "   -------- ------------------------------- 2.3/11.0 MB 692.6 kB/s eta 0:00:13\n",
      "   -------- ------------------------------- 2.4/11.0 MB 707.3 kB/s eta 0:00:13\n",
      "   -------- ------------------------------- 2.4/11.0 MB 715.9 kB/s eta 0:00:12\n",
      "   --------- ------------------------------ 2.6/11.0 MB 737.7 kB/s eta 0:00:12\n",
      "   --------- ------------------------------ 2.6/11.0 MB 748.7 kB/s eta 0:00:12\n",
      "   --------- ------------------------------ 2.7/11.0 MB 755.5 kB/s eta 0:00:11\n",
      "   ---------- ----------------------------- 2.8/11.0 MB 768.4 kB/s eta 0:00:11\n",
      "   ---------- ----------------------------- 2.9/11.0 MB 783.6 kB/s eta 0:00:11\n",
      "   ---------- ----------------------------- 3.0/11.0 MB 796.4 kB/s eta 0:00:11\n",
      "   ---------- ----------------------------- 3.0/11.0 MB 802.8 kB/s eta 0:00:10\n",
      "   ----------- ---------------------------- 3.1/11.0 MB 811.2 kB/s eta 0:00:10\n",
      "   ----------- ---------------------------- 3.2/11.0 MB 827.9 kB/s eta 0:00:10\n",
      "   ----------- ---------------------------- 3.3/11.0 MB 838.9 kB/s eta 0:00:10\n",
      "   ------------ --------------------------- 3.3/11.0 MB 844.5 kB/s eta 0:00:10\n",
      "   ------------ --------------------------- 3.5/11.0 MB 860.2 kB/s eta 0:00:09\n",
      "   ------------ --------------------------- 3.5/11.0 MB 861.2 kB/s eta 0:00:09\n",
      "   ------------ --------------------------- 3.6/11.0 MB 871.3 kB/s eta 0:00:09\n",
      "   ------------- -------------------------- 3.6/11.0 MB 865.7 kB/s eta 0:00:09\n",
      "   ------------- -------------------------- 3.8/11.0 MB 903.9 kB/s eta 0:00:08\n",
      "   -------------- ------------------------- 3.9/11.0 MB 909.4 kB/s eta 0:00:08\n",
      "   -------------- ------------------------- 3.9/11.0 MB 910.3 kB/s eta 0:00:08\n",
      "   -------------- ------------------------- 4.0/11.0 MB 912.5 kB/s eta 0:00:08\n",
      "   -------------- ------------------------- 4.1/11.0 MB 928.4 kB/s eta 0:00:08\n",
      "   --------------- ------------------------ 4.2/11.0 MB 948.5 kB/s eta 0:00:08\n",
      "   --------------- ------------------------ 4.3/11.0 MB 952.3 kB/s eta 0:00:08\n",
      "   --------------- ------------------------ 4.3/11.0 MB 954.8 kB/s eta 0:00:07\n",
      "   ---------------- ----------------------- 4.4/11.0 MB 968.5 kB/s eta 0:00:07\n",
      "   ---------------- ----------------------- 4.6/11.0 MB 987.5 kB/s eta 0:00:07\n",
      "   ---------------- ----------------------- 4.6/11.0 MB 994.1 kB/s eta 0:00:07\n",
      "   ---------------- ----------------------- 4.7/11.0 MB 985.4 kB/s eta 0:00:07\n",
      "   ----------------- ---------------------- 4.8/11.0 MB 1.0 MB/s eta 0:00:07\n",
      "   ----------------- ---------------------- 4.9/11.0 MB 1.0 MB/s eta 0:00:06\n",
      "   ------------------ --------------------- 5.0/11.0 MB 1.0 MB/s eta 0:00:06\n",
      "   ------------------ --------------------- 5.1/11.0 MB 1.0 MB/s eta 0:00:06\n",
      "   ------------------ --------------------- 5.2/11.0 MB 1.0 MB/s eta 0:00:06\n",
      "   ------------------- -------------------- 5.3/11.0 MB 1.1 MB/s eta 0:00:06\n",
      "   ------------------- -------------------- 5.5/11.0 MB 1.1 MB/s eta 0:00:06\n",
      "   -------------------- ------------------- 5.5/11.0 MB 1.1 MB/s eta 0:00:06\n",
      "   -------------------- ------------------- 5.6/11.0 MB 1.1 MB/s eta 0:00:05\n",
      "   --------------------- ------------------ 5.8/11.0 MB 1.1 MB/s eta 0:00:05\n",
      "   --------------------- ------------------ 5.9/11.0 MB 1.1 MB/s eta 0:00:05\n",
      "   --------------------- ------------------ 6.0/11.0 MB 1.1 MB/s eta 0:00:05\n",
      "   --------------------- ------------------ 6.0/11.0 MB 1.1 MB/s eta 0:00:05\n",
      "   ---------------------- ----------------- 6.2/11.0 MB 1.2 MB/s eta 0:00:05\n",
      "   ----------------------- ---------------- 6.4/11.0 MB 1.2 MB/s eta 0:00:04\n",
      "   ----------------------- ---------------- 6.4/11.0 MB 1.2 MB/s eta 0:00:04\n",
      "   ----------------------- ---------------- 6.5/11.0 MB 1.2 MB/s eta 0:00:04\n",
      "   ------------------------ --------------- 6.6/11.0 MB 1.2 MB/s eta 0:00:04\n",
      "   ------------------------ --------------- 6.8/11.0 MB 1.2 MB/s eta 0:00:04\n",
      "   ------------------------- -------------- 7.0/11.0 MB 1.2 MB/s eta 0:00:04\n",
      "   ------------------------- -------------- 7.1/11.0 MB 1.2 MB/s eta 0:00:04\n",
      "   -------------------------- ------------- 7.2/11.0 MB 1.2 MB/s eta 0:00:04\n",
      "   -------------------------- ------------- 7.3/11.0 MB 1.3 MB/s eta 0:00:03\n",
      "   --------------------------- ------------ 7.5/11.0 MB 1.3 MB/s eta 0:00:03\n",
      "   --------------------------- ------------ 7.6/11.0 MB 1.3 MB/s eta 0:00:03\n",
      "   --------------------------- ------------ 7.7/11.0 MB 1.3 MB/s eta 0:00:03\n",
      "   ---------------------------- ----------- 7.9/11.0 MB 1.3 MB/s eta 0:00:03\n",
      "   ----------------------------- ---------- 8.0/11.0 MB 1.3 MB/s eta 0:00:03\n",
      "   ----------------------------- ---------- 8.1/11.0 MB 1.3 MB/s eta 0:00:03\n",
      "   ----------------------------- ---------- 8.2/11.0 MB 1.3 MB/s eta 0:00:03\n",
      "   ------------------------------ --------- 8.4/11.0 MB 1.3 MB/s eta 0:00:02\n",
      "   ------------------------------- -------- 8.6/11.0 MB 1.4 MB/s eta 0:00:02\n",
      "   ------------------------------- -------- 8.6/11.0 MB 1.4 MB/s eta 0:00:02\n",
      "   ------------------------------- -------- 8.8/11.0 MB 1.4 MB/s eta 0:00:02\n",
      "   -------------------------------- ------- 8.9/11.0 MB 1.4 MB/s eta 0:00:02\n",
      "   --------------------------------- ------ 9.2/11.0 MB 1.4 MB/s eta 0:00:02\n",
      "   --------------------------------- ------ 9.2/11.0 MB 1.4 MB/s eta 0:00:02\n",
      "   ---------------------------------- ----- 9.4/11.0 MB 1.4 MB/s eta 0:00:02\n",
      "   ---------------------------------- ----- 9.5/11.0 MB 1.4 MB/s eta 0:00:02\n",
      "   ----------------------------------- ---- 9.7/11.0 MB 1.5 MB/s eta 0:00:01\n",
      "   ------------------------------------ --- 9.9/11.0 MB 1.5 MB/s eta 0:00:01\n",
      "   ------------------------------------ --- 10.0/11.0 MB 1.5 MB/s eta 0:00:01\n",
      "   ------------------------------------- -- 10.2/11.0 MB 1.5 MB/s eta 0:00:01\n",
      "   ------------------------------------- -- 10.3/11.0 MB 1.6 MB/s eta 0:00:01\n",
      "   -------------------------------------- - 10.6/11.0 MB 2.0 MB/s eta 0:00:01\n",
      "   ---------------------------------------  10.9/11.0 MB 2.1 MB/s eta 0:00:01\n",
      "   ---------------------------------------  10.9/11.0 MB 2.1 MB/s eta 0:00:01\n",
      "   ---------------------------------------- 11.0/11.0 MB 2.1 MB/s eta 0:00:00\n",
      "Installing collected packages: scikit-learn\n",
      "  Attempting uninstall: scikit-learn\n",
      "    Found existing installation: scikit-learn 1.3.1\n",
      "    Uninstalling scikit-learn-1.3.1:\n",
      "      Successfully uninstalled scikit-learn-1.3.1\n",
      "Successfully installed scikit-learn-1.5.1\n"
     ]
    },
    {
     "name": "stderr",
     "output_type": "stream",
     "text": [
      "  WARNING: Failed to remove contents in a temporary directory 'C:\\Users\\HP\\AppData\\Local\\Programs\\Python\\Python311\\Lib\\site-packages\\~klearn'.\n",
      "  You can safely remove it manually.\n",
      "ERROR: pip's dependency resolver does not currently take into account all the packages that are installed. This behaviour is the source of the following dependency conflicts.\n",
      "sentence-transformers 2.3.1 requires transformers<5.0.0,>=4.32.0, but you have transformers 4.31.0 which is incompatible.\n",
      "\n",
      "[notice] A new release of pip is available: 24.0 -> 24.1.2\n",
      "[notice] To update, run: python.exe -m pip install --upgrade pip\n"
     ]
    }
   ],
   "source": [
    "# Using Pickle\n",
    "import pickle\n",
    "with open('model.pkl', 'wb') as f:\n",
    "    pickle.dump(voting_clf, f)\n",
    "    \n",
    "# Using joblib\n",
    "from joblib import dump\n",
    "dump(voting_clf, 'Job_model.joblib')"
   ]
  },
  {
   "cell_type": "code",
   "execution_count": 90,
   "id": "caf820c7-ee7d-476f-9873-929d84c8a8c8",
   "metadata": {},
   "outputs": [],
   "source": [
    "# !pip install scikit-learn==1.0.2\n",
    "!pip install scikit-learn>1.0.2"
   ]
  },
  {
   "cell_type": "code",
   "execution_count": 91,
   "id": "5ab3bfe7-3491-47ca-9116-1b1fe9e70761",
   "metadata": {},
   "outputs": [
    {
     "ename": "ImportError",
     "evalue": "cannot import name 'load_compatibility' from 'joblib' (C:\\Users\\HP\\anaconda3\\lib\\site-packages\\joblib\\__init__.py)",
     "output_type": "error",
     "traceback": [
      "\u001b[1;31m---------------------------------------------------------------------------\u001b[0m",
      "\u001b[1;31mImportError\u001b[0m                               Traceback (most recent call last)",
      "\u001b[1;32m~\\AppData\\Local\\Temp\\ipykernel_13540\\2590760317.py\u001b[0m in \u001b[0;36m<module>\u001b[1;34m\u001b[0m\n\u001b[1;32m----> 1\u001b[1;33m \u001b[1;32mfrom\u001b[0m \u001b[0mjoblib\u001b[0m \u001b[1;32mimport\u001b[0m \u001b[0mload_compatibility\u001b[0m\u001b[1;33m\u001b[0m\u001b[1;33m\u001b[0m\u001b[0m\n\u001b[0m",
      "\u001b[1;31mImportError\u001b[0m: cannot import name 'load_compatibility' from 'joblib' (C:\\Users\\HP\\anaconda3\\lib\\site-packages\\joblib\\__init__.py)"
     ]
    }
   ],
   "source": [
    "from joblib import load_compatibility"
   ]
  },
  {
   "cell_type": "code",
   "execution_count": null,
   "id": "9ab47362-7234-4d11-b3cb-a23173796954",
   "metadata": {},
   "outputs": [],
   "source": []
  },
  {
   "cell_type": "code",
   "execution_count": 1,
   "id": "77ff4dc7-23ac-4787-9b0a-b18c7abb644e",
   "metadata": {},
   "outputs": [],
   "source": [
    "import openai\n",
    "import re\n",
    "import httpx\n",
    "import os\n",
    "\n",
    "from dotenv import load_dotenv\n",
    "\n",
    "_ = load_dotenv()\n",
    "from openai import OpenAI"
   ]
  },
  {
   "cell_type": "code",
   "execution_count": 2,
   "id": "b86ccbb0-0db5-4b8b-a39f-af8e7f6b7287",
   "metadata": {},
   "outputs": [],
   "source": [
    "client = OpenAI()\n",
    "\n",
    "class Agent:\n",
    "    def __init__(self, system=''):\n",
    "        self.system = system\n",
    "        self.messages = []\n",
    "        if self.system:\n",
    "            self.messages.append({\"role\":'system', 'content':system})\n",
    "            \n",
    "            \n",
    "    def __call__(self, message):\n",
    "        self.messages.append({'role':'user', 'content':message})\n",
    "        result = self.execute()\n",
    "        self.messages.append({'role':'assistant', 'content':result})\n",
    "        return result\n",
    "    \n",
    "    def execute(self):\n",
    "        chat_completion = client.chat.completions.create(\n",
    "            model='gpt-4o',\n",
    "            temperature=0,\n",
    "            messages = self.messages\n",
    "        )\n",
    "        \n",
    "        return chat_completion.choices[0].message.content\n",
    "    \n",
    "    "
   ]
  },
  {
   "cell_type": "code",
   "execution_count": 53,
   "id": "0d6532ca-e9e3-4842-be44-f34dee62382a",
   "metadata": {},
   "outputs": [
    {
     "name": "stdout",
     "output_type": "stream",
     "text": [
      "Thank you for providing the information. Let me summarize your responses:\n",
      "\n",
      "1. Current temperature: Yes\n",
      "2. Severe headache: Yes\n",
      "3. Pain behind the eyes: No\n",
      "4. Joint/muscle aches: No\n",
      "5. Metallic taste in the mouth: No\n",
      "6. Appetite loss: Yes\n",
      "7. Abdominal pain: Yes\n",
      "8. Nausea/vomiting: No\n",
      "\n",
      "Here is the JSON representation of your responses:\n",
      "\n",
      "```json\n",
      "{\n",
      "  \"current_temp\": 1,\n",
      "  \"servere_headche\": 1,\n",
      "  \"pain_behind_the_eyes\": 0,\n",
      "  \"joint_muscle_aches\": 0,\n",
      "  \"metallic_taste_in_the_mouth\": 0,\n",
      "  \"appetite_loss\": 1,\n",
      "  \"addominal_pain\": 1,\n",
      "  \"nausea_vomiting\": 0\n",
      "}\n",
      "```\n",
      "\n",
      "Is there anything else you would like to add or modify?\n"
     ]
    }
   ],
   "source": [
    "with open('System prompt.txt') as file:\n",
    "    system_prompt = file.read()\n",
    "    \n",
    "\n",
    "interact = Agent(system_prompt)\n",
    "query = \"\"\"\n",
    "I am running temperature, Yes, I am having headache.\n",
    "No, i am not experiencing pain at the back of my eyes.\n",
    "No, i don't have muscle aches.\n",
    "No, i am not experiencing some change in taste in my mouth.\n",
    "I can't even eat at all.\n",
    "Yes, i have some pains abdominally.\n",
    "No, i am not vomiting\n",
    "\"\"\"\n",
    "users_complain = interact(query)\n",
    "print(users_complain)"
   ]
  },
  {
   "cell_type": "code",
   "execution_count": 5,
   "id": "f497226f-3220-407f-8408-6172559d4ad9",
   "metadata": {},
   "outputs": [],
   "source": [
    "def get_users_details(response):\n",
    "    import json as js\n",
    "    import re\n",
    "    pattern = r\"\\{(.*?)\\}\"\n",
    "    \n",
    "    match = re.search(pattern, response, re.DOTALL)\n",
    "    \n",
    "    if match:\n",
    "        json_str = match.group()\n",
    "        json_obj = js.loads(json_str)\n",
    "    return json_obj\n",
    "\n"
   ]
  },
  {
   "cell_type": "code",
   "execution_count": 78,
   "id": "991d6d05-bc90-40c5-9c9e-6b82c950fbf3",
   "metadata": {},
   "outputs": [
    {
     "name": "stdout",
     "output_type": "stream",
     "text": [
      "Thank you for providing the information. Let me summarize your responses:\n",
      "\n",
      "1. Current temperature: Yes\n",
      "2. Severe headache: Yes\n",
      "3. Pain behind the eyes: No\n",
      "4. Joint/muscle aches: No\n",
      "5. Metallic taste in the mouth: No\n",
      "6. Appetite loss: Yes\n",
      "7. Abdominal pain: Yes\n",
      "8. Nausea/vomiting: No\n",
      "\n",
      "Here is the JSON representation of your responses:\n",
      "\n",
      "```json\n",
      "{\n",
      "  \"current_temp\": 1,\n",
      "  \"servere_headche\": 1,\n",
      "  \"pain_behind_the_eyes\": 0,\n",
      "  \"joint_muscle_aches\": 0,\n",
      "  \"metallic_taste_in_the_mouth\": 0,\n",
      "  \"appetite_loss\": 1,\n",
      "  \"addominal_pain\": 1,\n",
      "  \"nausea_vomiting\": 0\n",
      "}\n",
      "```\n",
      "\n",
      "Is there anything else you would like to add or modify?\n"
     ]
    }
   ],
   "source": [
    "print(users_complain)"
   ]
  },
  {
   "cell_type": "code",
   "execution_count": 86,
   "id": "55a6901f-cd1e-4c75-833f-e974209cee27",
   "metadata": {},
   "outputs": [
    {
     "name": "stderr",
     "output_type": "stream",
     "text": [
      "C:\\Users\\HP\\anaconda3\\lib\\site-packages\\sklearn\\base.py:450: UserWarning: X does not have valid feature names, but LogisticRegression was fitted with feature names\n",
      "  warnings.warn(\n",
      "C:\\Users\\HP\\anaconda3\\lib\\site-packages\\sklearn\\base.py:450: UserWarning: X does not have valid feature names, but DecisionTreeClassifier was fitted with feature names\n",
      "  warnings.warn(\n",
      "C:\\Users\\HP\\anaconda3\\lib\\site-packages\\sklearn\\base.py:450: UserWarning: X does not have valid feature names, but MLPClassifier was fitted with feature names\n",
      "  warnings.warn(\n",
      "C:\\Users\\HP\\AppData\\Local\\Temp\\ipykernel_13540\\1989799517.py:19: DeprecationWarning: Conversion of an array with ndim > 0 to a scalar is deprecated, and will error in future. Ensure you extract a single element from your array before performing this operation. (Deprecated NumPy 1.25.)\n",
      "  return int(prediction)\n"
     ]
    }
   ],
   "source": [
    "def predict(llm_json):\n",
    "    import pickle as pkl\n",
    "    import numpy as np\n",
    "    from joblib import load\n",
    "\n",
    "    # Load the saved model from the .pkl file\n",
    "    with open('model.pkl', 'rb') as file:\n",
    "        model = pkl.load(file)\n",
    "    model1 = load('Job_model.joblib')\n",
    "        \n",
    "    # get the users data\n",
    "    users_details = get_users_details(llm_json)\n",
    "    input_data = np.array([list(users_details.values())])\n",
    "\n",
    "    # Do prediction\n",
    "    prediction = model1.predict(input_data)\n",
    "    \n",
    "    # return prediction\n",
    "    return int(prediction)\n",
    "\n",
    "prediction = predict(users_complain)"
   ]
  },
  {
   "cell_type": "code",
   "execution_count": 87,
   "id": "beeddd53-fee5-411a-9133-d5e3f89a7ee5",
   "metadata": {},
   "outputs": [
    {
     "name": "stdout",
     "output_type": "stream",
     "text": [
      "1\n"
     ]
    },
    {
     "data": {
      "text/plain": [
       "int"
      ]
     },
     "execution_count": 87,
     "metadata": {},
     "output_type": "execute_result"
    }
   ],
   "source": [
    "print(prediction)\n",
    "type(prediction)\n"
   ]
  },
  {
   "cell_type": "code",
   "execution_count": 83,
   "id": "a3d575b2-d4e5-42a8-a2ce-782d4c11ddd8",
   "metadata": {
    "collapsed": true,
    "jupyter": {
     "outputs_hidden": true
    },
    "tags": []
   },
   "outputs": [
    {
     "name": "stdout",
     "output_type": "stream",
     "text": [
      "Based on the model's prediction that the patient is diagnosed with malaria (result = 1), here is a detailed recommendation for treatment and care:\n",
      "\n",
      "### Prescription for Malaria Treatment\n",
      "\n",
      "#### Medications\n",
      "1. **Artemisinin-based Combination Therapy (ACT):**\n",
      "   - **Artemether-Lumefantrine (Coartem):**\n",
      "     - **Dosage:** The standard course is six doses over three days. For adults and children over 35 kg, the dosage is typically 4 tablets initially, followed by 4 tablets again at 8 hours, and then 4 tablets twice daily (morning and evening) for the next two days.\n",
      "     - **Note:** It is crucial to complete the full course of treatment, even if the patient starts feeling better.\n",
      "\n",
      "2. **For severe malaria:**\n",
      "   - **Intravenous (IV) Artesunate:** Administered in a hospital setting.\n",
      "     - **Dosage:** Typically 2.4 mg/kg body weight administered at 0, 12, and 24 hours, then once daily.\n",
      "     - **Follow-up:** After IV treatment, the patient may be switched to an oral ACT to complete the treatment.\n",
      "\n",
      "#### Adjunctive Medications\n",
      "- **Antipyretics:** To manage fever.\n",
      "  - **Paracetamol (Acetaminophen):** 500-1000 mg every 6-8 hours as needed.\n",
      "- **Antiemetics:** To manage nausea and vomiting.\n",
      "  - **Ondansetron:** 4-8 mg every 8 hours as needed.\n",
      "\n",
      "### Dietary and Lifestyle Advice\n",
      "\n",
      "#### Nutrition\n",
      "- **Hydration:** Drink plenty of fluids to stay hydrated, especially if experiencing fever and sweating.\n",
      "- **Balanced Diet:** Consume a well-balanced diet rich in fruits, vegetables, lean proteins, and whole grains to support the immune system.\n",
      "  - **Iron-Rich Foods:** Since malaria can cause anemia, include iron-rich foods such as spinach, red meat, legumes, and fortified cereals.\n",
      "  - **Vitamin C:** Helps with iron absorption, so include citrus fruits, tomatoes, and bell peppers.\n",
      "- **Avoid Alcohol and Caffeine:** These can cause dehydration and may interact with medications.\n",
      "\n",
      "### General Care and Precautions\n",
      "1. **Rest:** Ensure plenty of rest to help the body recover.\n",
      "2. **Follow-up:** Schedule follow-up appointments with the doctor to monitor progress and ensure the infection is fully cleared.\n",
      "3. **Prevent Mosquito Bites:** Use insect repellent, sleep under insecticide-treated bed nets, and wear long-sleeved clothing to prevent further mosquito bites.\n",
      "4. **Medication Adherence:** Strictly adhere to the prescribed medication regimen to ensure the infection is fully treated and to prevent resistance.\n",
      "\n",
      "### Warning Signs\n",
      "Seek immediate medical attention if the patient experiences:\n",
      "- Severe headache\n",
      "- Difficulty breathing\n",
      "- Confusion or altered consciousness\n",
      "- Persistent vomiting\n",
      "- High fever that does not subside with antipyretics\n",
      "\n",
      "### Note:\n",
      "This information is a general guideline and not a substitute for professional medical advice. Always consult with a healthcare provider for a diagnosis and personalized treatment plan.\n"
     ]
    }
   ],
   "source": [
    "with open('Health Recommendation Doc.txt') as file:\n",
    "    health_prompt = file.read()\n",
    "    \n",
    "\n",
    "prescribe = Agent(health_prompt)\n",
    "input_ = f\"The prediction made by the model from the patient's data is {prediction}, can you give a recommendation based on this report?\"\n",
    "give_prescription = prescribe(input_)\n",
    "print(give_prescription)"
   ]
  },
  {
   "cell_type": "code",
   "execution_count": 84,
   "id": "a7c33f96-0f46-41ec-9148-9ebbfd3cd404",
   "metadata": {},
   "outputs": [
    {
     "name": "stdout",
     "output_type": "stream",
     "text": [
      "The prediction made by the model from the patient's data is 1, can you give a recommendation based on this report?\n"
     ]
    }
   ],
   "source": [
    "print(input_)"
   ]
  },
  {
   "cell_type": "code",
   "execution_count": null,
   "id": "fd82f41c-b2f2-479b-930c-38de11c613d8",
   "metadata": {},
   "outputs": [],
   "source": []
  },
  {
   "cell_type": "code",
   "execution_count": null,
   "id": "9794e9af-a7e4-4090-b14c-c6afb45b3c52",
   "metadata": {},
   "outputs": [],
   "source": []
  },
  {
   "cell_type": "code",
   "execution_count": null,
   "id": "d6ba3a1d-070f-431d-8d63-544bd275d586",
   "metadata": {},
   "outputs": [],
   "source": []
  },
  {
   "cell_type": "code",
   "execution_count": 27,
   "id": "808b6322-e60f-43ab-807b-79eadbc05ace",
   "metadata": {},
   "outputs": [],
   "source": [
    "from langchain_openai import OpenAIEmbeddings\n",
    "from langchain.vectorstores import FAISS\n",
    "from langchain.text_splitter import RecursiveCharacterTextSplitter\n",
    "from langchain_community.document_loaders import WebBaseLoader\n",
    "from langchain.document_loaders import TextLoader\n",
    "from langchain_openai import ChatOpenAI\n",
    "from langchain.tools.retriever import create_retriever_tool\n",
    "from langchain_core.messages import HumanMessage\n",
    "\n",
    "embed = OpenAIEmbeddings()\n",
    "vector_store = FAISS\n",
    "text_splitter = RecursiveCharacterTextSplitter(chunk_size=1000, chunk_overlap=200)\n",
    "\n",
    "\n",
    "health_doc = TextLoader('Health Recommendation Doc.txt').load()"
   ]
  },
  {
   "cell_type": "code",
   "execution_count": 13,
   "id": "abb54334-7db9-4dab-a36f-cc155daffb35",
   "metadata": {},
   "outputs": [],
   "source": [
    "splits = text_splitter.split_documents(health_doc)\n",
    "vectors = FAISS.from_documents(splits, embed)\n",
    "retriever = vectors.as_retriever()"
   ]
  },
  {
   "cell_type": "code",
   "execution_count": 42,
   "id": "9536a798-b3d7-4bc7-b0f3-0d7c6e35cae2",
   "metadata": {},
   "outputs": [
    {
     "ename": "ValueError",
     "evalue": "Unsupported function\n\n[Document(page_content=\"Given the result from a model going to predict the patient's status given some parameters.\\n### Your task is to give prescription to the patient using the below knowledge.\\n\\nIf the result from the model is 1 it means the patient is diagnose to have malaria infection if the result is 0 then the patient is experiencing something else or something similar to malaria\\n\\nIf the patient is diagnose to have malarai you will give the following prescription:\\nSure, I can provide a general guideline on what a doctor might prescribe and advise for a patient diagnosed with malaria. However, it's important to note that the specific treatment and advice can vary based on factors such as the type of malaria, the severity of the infection, the patient's age, weight, overall health, and any potential drug resistance in the region.\\n\\n### Prescription for Malaria Treatment\\n\\n#### Medications\\n1. **Artemisinin-based Combination Therapy (ACT):** This is the first-line treatment for uncomplicated Plasmodium falciparum malaria. A commonly used ACT is Artemether-Lumefantrine.\\n   - **Artemether-Lumefantrine (Coartem):**\\n     - Dosage: The standard course is usually six doses over three days. The dosage depends on the patient's weight. For adults and children over 35 kg, the dosage is typically 4 tablets initially, followed by 4 tablets again at 8 hours, and then 4 tablets twice daily (morning and evening) for the next two days.\\n   - Note: It's crucial to complete the full course of treatment, even if the patient starts feeling better.\\n\\n2. **For severe malaria:**\\n   - **Intravenous (IV) Artesunate:** Administered in a hospital setting.\\n     - Dosage: Typically 2.4 mg/kg body weight administered at 0, 12, and 24 hours, then once daily.\\n   - After IV treatment, the patient may be switched to an oral ACT to complete the treatment.\\n\\n#### Adjunctive Medications\\n- **Antipyretics:** To manage fever.\\n  - **Paracetamol (Acetaminophen):** 500-1000 mg every 6-8 hours as needed.\\n- **Antiemetics:** To manage nausea and vomiting.\\n  - **Ondansetron:** 4-8 mg every 8 hours as needed.\\n\\n### Dietary and Lifestyle Advice\\n\\n#### Nutrition\\n- **Hydration:** Drink plenty of fluids to stay hydrated, especially if experiencing fever and sweating.\\n- **Balanced Diet:** Consume a well-balanced diet rich in fruits, vegetables, lean proteins, and whole grains to support the immune system.\\n  - **Iron-Rich Foods:** Since malaria can cause anemia, include iron-rich foods such as spinach, red meat, legumes, and fortified cereals.\\n  - **Vitamin C:** Helps with iron absorption, so include citrus fruits, tomatoes, and bell peppers.\\n- **Avoid Alcohol and Caffeine:** These can cause dehydration and may interact with medications.\\n\\n### General Care and Precautions\\n1. **Rest:** Ensure plenty of rest to help the body recover.\\n2. **Follow-up:** Schedule follow-up appointments with the doctor to monitor progress and ensure the infection is fully cleared.\\n3. **Prevent Mosquito Bites:** Use insect repellent, sleep under insecticide-treated bed nets, and wear long-sleeved clothing to prevent further mosquito bites.\\n4. **Medication Adherence:** Strictly adhere to the prescribed medication regimen to ensure the infection is fully treated and to prevent resistance.\\n\\n### Warning Signs\\nSeek immediate medical attention if the patient experiences:\\n- Severe headache\\n- Difficulty breathing\\n- Confusion or altered consciousness\\n- Persistent vomiting\\n- High fever that does not subside with antipyretics\\n\\n### Note:\\nThis information is a general guideline and not a substitute for professional medical advice. Always consult with a healthcare provider for a diagnosis and personalized treatment plan.\", metadata={'source': 'Health Recommendation Doc.txt'})]\n\nFunctions must be passed in as Dict, pydantic.BaseModel, or Callable. If they're a dict they must either be in OpenAI function format or valid JSON schema with top-level 'title' and 'description' keys.",
     "output_type": "error",
     "traceback": [
      "\u001b[1;31m---------------------------------------------------------------------------\u001b[0m",
      "\u001b[1;31mValueError\u001b[0m                                Traceback (most recent call last)",
      "\u001b[1;32m~\\AppData\\Local\\Temp\\ipykernel_10540\\3216650876.py\u001b[0m in \u001b[0;36m<module>\u001b[1;34m\u001b[0m\n\u001b[0;32m     12\u001b[0m \u001b[1;33m\u001b[0m\u001b[0m\n\u001b[0;32m     13\u001b[0m \u001b[1;31m# Now, let's bind the model with the tools\u001b[0m\u001b[1;33m\u001b[0m\u001b[1;33m\u001b[0m\u001b[0m\n\u001b[1;32m---> 14\u001b[1;33m \u001b[0mbind_model\u001b[0m \u001b[1;33m=\u001b[0m \u001b[0mmodel\u001b[0m\u001b[1;33m.\u001b[0m\u001b[0mbind_tools\u001b[0m\u001b[1;33m(\u001b[0m\u001b[0mtools\u001b[0m\u001b[1;33m)\u001b[0m\u001b[1;33m\u001b[0m\u001b[1;33m\u001b[0m\u001b[0m\n\u001b[0m",
      "\u001b[1;32m~\\anaconda3\\lib\\site-packages\\langchain_openai\\chat_models\\base.py\u001b[0m in \u001b[0;36mbind_tools\u001b[1;34m(self, tools, tool_choice, **kwargs)\u001b[0m\n\u001b[0;32m    693\u001b[0m         \"\"\"\n\u001b[0;32m    694\u001b[0m \u001b[1;33m\u001b[0m\u001b[0m\n\u001b[1;32m--> 695\u001b[1;33m         \u001b[0mformatted_tools\u001b[0m \u001b[1;33m=\u001b[0m \u001b[1;33m[\u001b[0m\u001b[0mconvert_to_openai_tool\u001b[0m\u001b[1;33m(\u001b[0m\u001b[0mtool\u001b[0m\u001b[1;33m)\u001b[0m \u001b[1;32mfor\u001b[0m \u001b[0mtool\u001b[0m \u001b[1;32min\u001b[0m \u001b[0mtools\u001b[0m\u001b[1;33m]\u001b[0m\u001b[1;33m\u001b[0m\u001b[1;33m\u001b[0m\u001b[0m\n\u001b[0m\u001b[0;32m    696\u001b[0m         \u001b[1;32mif\u001b[0m \u001b[0mtool_choice\u001b[0m \u001b[1;32mis\u001b[0m \u001b[1;32mnot\u001b[0m \u001b[1;32mNone\u001b[0m\u001b[1;33m:\u001b[0m\u001b[1;33m\u001b[0m\u001b[1;33m\u001b[0m\u001b[0m\n\u001b[0;32m    697\u001b[0m             \u001b[1;32mif\u001b[0m \u001b[0misinstance\u001b[0m\u001b[1;33m(\u001b[0m\u001b[0mtool_choice\u001b[0m\u001b[1;33m,\u001b[0m \u001b[0mstr\u001b[0m\u001b[1;33m)\u001b[0m \u001b[1;32mand\u001b[0m \u001b[1;33m(\u001b[0m\u001b[0mtool_choice\u001b[0m \u001b[1;32mnot\u001b[0m \u001b[1;32min\u001b[0m \u001b[1;33m(\u001b[0m\u001b[1;34m\"auto\"\u001b[0m\u001b[1;33m,\u001b[0m \u001b[1;34m\"none\"\u001b[0m\u001b[1;33m)\u001b[0m\u001b[1;33m)\u001b[0m\u001b[1;33m:\u001b[0m\u001b[1;33m\u001b[0m\u001b[1;33m\u001b[0m\u001b[0m\n",
      "\u001b[1;32m~\\anaconda3\\lib\\site-packages\\langchain_openai\\chat_models\\base.py\u001b[0m in \u001b[0;36m<listcomp>\u001b[1;34m(.0)\u001b[0m\n\u001b[0;32m    693\u001b[0m         \"\"\"\n\u001b[0;32m    694\u001b[0m \u001b[1;33m\u001b[0m\u001b[0m\n\u001b[1;32m--> 695\u001b[1;33m         \u001b[0mformatted_tools\u001b[0m \u001b[1;33m=\u001b[0m \u001b[1;33m[\u001b[0m\u001b[0mconvert_to_openai_tool\u001b[0m\u001b[1;33m(\u001b[0m\u001b[0mtool\u001b[0m\u001b[1;33m)\u001b[0m \u001b[1;32mfor\u001b[0m \u001b[0mtool\u001b[0m \u001b[1;32min\u001b[0m \u001b[0mtools\u001b[0m\u001b[1;33m]\u001b[0m\u001b[1;33m\u001b[0m\u001b[1;33m\u001b[0m\u001b[0m\n\u001b[0m\u001b[0;32m    696\u001b[0m         \u001b[1;32mif\u001b[0m \u001b[0mtool_choice\u001b[0m \u001b[1;32mis\u001b[0m \u001b[1;32mnot\u001b[0m \u001b[1;32mNone\u001b[0m\u001b[1;33m:\u001b[0m\u001b[1;33m\u001b[0m\u001b[1;33m\u001b[0m\u001b[0m\n\u001b[0;32m    697\u001b[0m             \u001b[1;32mif\u001b[0m \u001b[0misinstance\u001b[0m\u001b[1;33m(\u001b[0m\u001b[0mtool_choice\u001b[0m\u001b[1;33m,\u001b[0m \u001b[0mstr\u001b[0m\u001b[1;33m)\u001b[0m \u001b[1;32mand\u001b[0m \u001b[1;33m(\u001b[0m\u001b[0mtool_choice\u001b[0m \u001b[1;32mnot\u001b[0m \u001b[1;32min\u001b[0m \u001b[1;33m(\u001b[0m\u001b[1;34m\"auto\"\u001b[0m\u001b[1;33m,\u001b[0m \u001b[1;34m\"none\"\u001b[0m\u001b[1;33m)\u001b[0m\u001b[1;33m)\u001b[0m\u001b[1;33m:\u001b[0m\u001b[1;33m\u001b[0m\u001b[1;33m\u001b[0m\u001b[0m\n",
      "\u001b[1;32m~\\anaconda3\\lib\\site-packages\\langchain_core\\utils\\function_calling.py\u001b[0m in \u001b[0;36mconvert_to_openai_tool\u001b[1;34m(tool)\u001b[0m\n\u001b[0;32m    342\u001b[0m     \u001b[1;32mif\u001b[0m \u001b[0misinstance\u001b[0m\u001b[1;33m(\u001b[0m\u001b[0mtool\u001b[0m\u001b[1;33m,\u001b[0m \u001b[0mdict\u001b[0m\u001b[1;33m)\u001b[0m \u001b[1;32mand\u001b[0m \u001b[0mtool\u001b[0m\u001b[1;33m.\u001b[0m\u001b[0mget\u001b[0m\u001b[1;33m(\u001b[0m\u001b[1;34m\"type\"\u001b[0m\u001b[1;33m)\u001b[0m \u001b[1;33m==\u001b[0m \u001b[1;34m\"function\"\u001b[0m \u001b[1;32mand\u001b[0m \u001b[1;34m\"function\"\u001b[0m \u001b[1;32min\u001b[0m \u001b[0mtool\u001b[0m\u001b[1;33m:\u001b[0m\u001b[1;33m\u001b[0m\u001b[1;33m\u001b[0m\u001b[0m\n\u001b[0;32m    343\u001b[0m         \u001b[1;32mreturn\u001b[0m \u001b[0mtool\u001b[0m\u001b[1;33m\u001b[0m\u001b[1;33m\u001b[0m\u001b[0m\n\u001b[1;32m--> 344\u001b[1;33m     \u001b[0mfunction\u001b[0m \u001b[1;33m=\u001b[0m \u001b[0mconvert_to_openai_function\u001b[0m\u001b[1;33m(\u001b[0m\u001b[0mtool\u001b[0m\u001b[1;33m)\u001b[0m\u001b[1;33m\u001b[0m\u001b[1;33m\u001b[0m\u001b[0m\n\u001b[0m\u001b[0;32m    345\u001b[0m     \u001b[1;32mreturn\u001b[0m \u001b[1;33m{\u001b[0m\u001b[1;34m\"type\"\u001b[0m\u001b[1;33m:\u001b[0m \u001b[1;34m\"function\"\u001b[0m\u001b[1;33m,\u001b[0m \u001b[1;34m\"function\"\u001b[0m\u001b[1;33m:\u001b[0m \u001b[0mfunction\u001b[0m\u001b[1;33m}\u001b[0m\u001b[1;33m\u001b[0m\u001b[1;33m\u001b[0m\u001b[0m\n\u001b[0;32m    346\u001b[0m \u001b[1;33m\u001b[0m\u001b[0m\n",
      "\u001b[1;32m~\\anaconda3\\lib\\site-packages\\langchain_core\\utils\\function_calling.py\u001b[0m in \u001b[0;36mconvert_to_openai_function\u001b[1;34m(function)\u001b[0m\n\u001b[0;32m    317\u001b[0m         \u001b[1;32mreturn\u001b[0m \u001b[0mconvert_python_function_to_openai_function\u001b[0m\u001b[1;33m(\u001b[0m\u001b[0mfunction\u001b[0m\u001b[1;33m)\u001b[0m\u001b[1;33m\u001b[0m\u001b[1;33m\u001b[0m\u001b[0m\n\u001b[0;32m    318\u001b[0m     \u001b[1;32melse\u001b[0m\u001b[1;33m:\u001b[0m\u001b[1;33m\u001b[0m\u001b[1;33m\u001b[0m\u001b[0m\n\u001b[1;32m--> 319\u001b[1;33m         raise ValueError(\n\u001b[0m\u001b[0;32m    320\u001b[0m             \u001b[1;34mf\"Unsupported function\\n\\n{function}\\n\\nFunctions must be passed in\"\u001b[0m\u001b[1;33m\u001b[0m\u001b[1;33m\u001b[0m\u001b[0m\n\u001b[0;32m    321\u001b[0m             \u001b[1;34m\" as Dict, pydantic.BaseModel, or Callable. If they're a dict they must\"\u001b[0m\u001b[1;33m\u001b[0m\u001b[1;33m\u001b[0m\u001b[0m\n",
      "\u001b[1;31mValueError\u001b[0m: Unsupported function\n\n[Document(page_content=\"Given the result from a model going to predict the patient's status given some parameters.\\n### Your task is to give prescription to the patient using the below knowledge.\\n\\nIf the result from the model is 1 it means the patient is diagnose to have malaria infection if the result is 0 then the patient is experiencing something else or something similar to malaria\\n\\nIf the patient is diagnose to have malarai you will give the following prescription:\\nSure, I can provide a general guideline on what a doctor might prescribe and advise for a patient diagnosed with malaria. However, it's important to note that the specific treatment and advice can vary based on factors such as the type of malaria, the severity of the infection, the patient's age, weight, overall health, and any potential drug resistance in the region.\\n\\n### Prescription for Malaria Treatment\\n\\n#### Medications\\n1. **Artemisinin-based Combination Therapy (ACT):** This is the first-line treatment for uncomplicated Plasmodium falciparum malaria. A commonly used ACT is Artemether-Lumefantrine.\\n   - **Artemether-Lumefantrine (Coartem):**\\n     - Dosage: The standard course is usually six doses over three days. The dosage depends on the patient's weight. For adults and children over 35 kg, the dosage is typically 4 tablets initially, followed by 4 tablets again at 8 hours, and then 4 tablets twice daily (morning and evening) for the next two days.\\n   - Note: It's crucial to complete the full course of treatment, even if the patient starts feeling better.\\n\\n2. **For severe malaria:**\\n   - **Intravenous (IV) Artesunate:** Administered in a hospital setting.\\n     - Dosage: Typically 2.4 mg/kg body weight administered at 0, 12, and 24 hours, then once daily.\\n   - After IV treatment, the patient may be switched to an oral ACT to complete the treatment.\\n\\n#### Adjunctive Medications\\n- **Antipyretics:** To manage fever.\\n  - **Paracetamol (Acetaminophen):** 500-1000 mg every 6-8 hours as needed.\\n- **Antiemetics:** To manage nausea and vomiting.\\n  - **Ondansetron:** 4-8 mg every 8 hours as needed.\\n\\n### Dietary and Lifestyle Advice\\n\\n#### Nutrition\\n- **Hydration:** Drink plenty of fluids to stay hydrated, especially if experiencing fever and sweating.\\n- **Balanced Diet:** Consume a well-balanced diet rich in fruits, vegetables, lean proteins, and whole grains to support the immune system.\\n  - **Iron-Rich Foods:** Since malaria can cause anemia, include iron-rich foods such as spinach, red meat, legumes, and fortified cereals.\\n  - **Vitamin C:** Helps with iron absorption, so include citrus fruits, tomatoes, and bell peppers.\\n- **Avoid Alcohol and Caffeine:** These can cause dehydration and may interact with medications.\\n\\n### General Care and Precautions\\n1. **Rest:** Ensure plenty of rest to help the body recover.\\n2. **Follow-up:** Schedule follow-up appointments with the doctor to monitor progress and ensure the infection is fully cleared.\\n3. **Prevent Mosquito Bites:** Use insect repellent, sleep under insecticide-treated bed nets, and wear long-sleeved clothing to prevent further mosquito bites.\\n4. **Medication Adherence:** Strictly adhere to the prescribed medication regimen to ensure the infection is fully treated and to prevent resistance.\\n\\n### Warning Signs\\nSeek immediate medical attention if the patient experiences:\\n- Severe headache\\n- Difficulty breathing\\n- Confusion or altered consciousness\\n- Persistent vomiting\\n- High fever that does not subside with antipyretics\\n\\n### Note:\\nThis information is a general guideline and not a substitute for professional medical advice. Always consult with a healthcare provider for a diagnosis and personalized treatment plan.\", metadata={'source': 'Health Recommendation Doc.txt'})]\n\nFunctions must be passed in as Dict, pydantic.BaseModel, or Callable. If they're a dict they must either be in OpenAI function format or valid JSON schema with top-level 'title' and 'description' keys."
     ]
    }
   ],
   "source": [
    "retriever_tools = create_retriever_tool(\n",
    "    retriever,\n",
    "    'prescription',\n",
    "    'Give prescription to a patient give the prediction of the patient either a victim or not'\n",
    ")\n",
    "\n",
    "# Create a tool\n",
    "tools = [retriever_tools, health_doc]\n",
    "\n",
    "# Initialize a model\n",
    "model = ChatOpenAI(model='gpt-4')\n",
    "\n",
    "# Now, let's bind the model with the tools\n",
    "bind_model = model.bind_tools(tools)"
   ]
  },
  {
   "cell_type": "code",
   "execution_count": 33,
   "id": "e55515aa-83ce-45bf-ba3e-b68251e0b75d",
   "metadata": {},
   "outputs": [
    {
     "data": {
      "text/plain": [
       "AIMessage(content='Hi there! How can I assist you today?', response_metadata={'token_usage': {'completion_tokens': 11, 'prompt_tokens': 65, 'total_tokens': 76}, 'model_name': 'gpt-4', 'system_fingerprint': None, 'finish_reason': 'stop', 'logprobs': None}, id='run-9463f2f6-9830-46e2-bf30-7fd8f47e9a83-0')"
      ]
     },
     "execution_count": 33,
     "metadata": {},
     "output_type": "execute_result"
    }
   ],
   "source": [
    "bind_model.invoke([HumanMessage(content='Hello')])"
   ]
  },
  {
   "cell_type": "code",
   "execution_count": 30,
   "id": "43d1067d-4dea-4713-9219-8505828d73f2",
   "metadata": {},
   "outputs": [
    {
     "data": {
      "text/plain": [
       "RunnableBinding(bound=ChatOpenAI(client=<openai.resources.chat.completions.Completions object at 0x000002DFF18FCD90>, async_client=<openai.resources.chat.completions.AsyncCompletions object at 0x000002DFF20BA0D0>, model_name='gpt-4', openai_api_key=SecretStr('**********'), openai_proxy=''), kwargs={'tools': [{'type': 'function', 'function': {'name': 'prescription', 'description': 'Give prescription to a patient give the prediction of the patient either a victim or not', 'parameters': {'type': 'object', 'properties': {'query': {'description': 'query to look up in retriever', 'type': 'string'}}, 'required': ['query']}}}]})"
      ]
     },
     "execution_count": 30,
     "metadata": {},
     "output_type": "execute_result"
    }
   ],
   "source": [
    "bind_model"
   ]
  },
  {
   "cell_type": "code",
   "execution_count": null,
   "id": "a8840390-388e-4c88-a34e-48194ba7bdf7",
   "metadata": {},
   "outputs": [],
   "source": []
  }
 ],
 "metadata": {
  "kernelspec": {
   "display_name": "Python 3 (ipykernel)",
   "language": "python",
   "name": "python3"
  },
  "language_info": {
   "codemirror_mode": {
    "name": "ipython",
    "version": 3
   },
   "file_extension": ".py",
   "mimetype": "text/x-python",
   "name": "python",
   "nbconvert_exporter": "python",
   "pygments_lexer": "ipython3",
   "version": "3.11.5"
  }
 },
 "nbformat": 4,
 "nbformat_minor": 5
}
